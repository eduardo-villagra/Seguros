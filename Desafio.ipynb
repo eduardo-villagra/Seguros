{
 "cells": [
  {
   "cell_type": "markdown",
   "metadata": {},
   "source": [
    "## Importando librerías y data "
   ]
  },
  {
   "cell_type": "markdown",
   "metadata": {},
   "source": [
    "### Librerías "
   ]
  },
  {
   "cell_type": "code",
   "execution_count": 1,
   "metadata": {},
   "outputs": [],
   "source": [
    "# Manejo de datos\n",
    "import pandas as pd\n",
    "import numpy as np\n",
    "\n",
    "# Visualización e imagenes\n",
    "import matplotlib.pyplot as plt\n",
    "import seaborn as sns\n",
    "\n",
    "# Procesamiento\n",
    "from sklearn.preprocessing import LabelEncoder\n",
    "from sklearn.model_selection import train_test_split, cross_val_score, GridSearchCV\n",
    "from sklearn.feature_selection import SelectKBest, chi2, f_classif\n",
    "from sklearn.preprocessing import StandardScaler\n",
    "from sklearn.ensemble import VotingClassifier\n",
    "from sklearn import model_selection\n",
    "from sklearn.utils import resample\n",
    "\n",
    "# Machine Learning\n",
    "from sklearn.neighbors import KNeighborsClassifier\n",
    "from sklearn.linear_model import LogisticRegression\n",
    "from sklearn.ensemble import RandomForestClassifier\n",
    "from sklearn.svm import SVC\n",
    "from xgboost import XGBClassifier\n",
    "from sklearn.ensemble import GradientBoostingClassifier\n",
    "from sklearn.ensemble import ExtraTreesClassifier\n",
    "from sklearn.ensemble import AdaBoostClassifier\n",
    "from sklearn.gaussian_process import GaussianProcessClassifier\n",
    "from sklearn.naive_bayes import GaussianNB\n",
    "from sklearn.ensemble import BaggingClassifier\n",
    "from sklearn.ensemble import VotingClassifier\n",
    "\n",
    "# Metricas \n",
    "from sklearn.metrics import accuracy_score, confusion_matrix, f1_score, make_scorer, roc_auc_score, classification_report,cohen_kappa_score ,roc_curve,jaccard_similarity_score\n",
    "\n",
    "# Otros\n",
    "import sys\n",
    "import warnings\n",
    "\n",
    "if not sys.warnoptions:\n",
    "    warnings.simplefilter(\"ignore\")"
   ]
  },
  {
   "cell_type": "markdown",
   "metadata": {},
   "source": [
    "### Data\n",
    "\n",
    "Cargamos los datos y renombramos variables con sus nombres originales"
   ]
  },
  {
   "cell_type": "code",
   "execution_count": 2,
   "metadata": {},
   "outputs": [],
   "source": [
    "data = pd.read_csv('data/data_desafio_seguros')\n",
    "\n",
    "id = data['row_id']\n",
    "data.drop('row_id', axis=1, inplace=True)\n",
    "\n",
    "nom_var = [\"est_cuenta\",\"duracion\",\"hist_credit\",\"proposito\",\"monto_credito\",\n",
    "              \"ahorros\",\"tiempo_empleo\",\"tasa_renta\",\"estatus_sexo\",\"deudas_garantes\",\n",
    "              \"tiempo_residencia\",\"propiedades\",\"edad\",\"pagos_pend\",\"Tipo_hogar\",\n",
    "              \"Num_credit\",\"tipo_trabajo\",\"num_cargas\",\"telefono\",\"trab_extranjero\",\"target\"]\n",
    "\n",
    "data.columns = nom_var"
   ]
  },
  {
   "cell_type": "markdown",
   "metadata": {},
   "source": [
    "## Inpección inicial de la data \n",
    "\n",
    "Aquí haremos un analisis descriptivo de la data, para conocer la cantidad de variables y observaciones, los tipos de variables, si la data tiene nulos y la cantidad de buenos y malos dentro del target para ver si existe desvalanceo "
   ]
  },
  {
   "cell_type": "markdown",
   "metadata": {},
   "source": [
    "### Tipos de varibles y descripción de la data"
   ]
  },
  {
   "cell_type": "code",
   "execution_count": 3,
   "metadata": {},
   "outputs": [
    {
     "name": "stdout",
     "output_type": "stream",
     "text": [
      "(900, 21)\n"
     ]
    },
    {
     "data": {
      "text/html": [
       "<div>\n",
       "<style scoped>\n",
       "    .dataframe tbody tr th:only-of-type {\n",
       "        vertical-align: middle;\n",
       "    }\n",
       "\n",
       "    .dataframe tbody tr th {\n",
       "        vertical-align: top;\n",
       "    }\n",
       "\n",
       "    .dataframe thead th {\n",
       "        text-align: right;\n",
       "    }\n",
       "</style>\n",
       "<table border=\"1\" class=\"dataframe\">\n",
       "  <thead>\n",
       "    <tr style=\"text-align: right;\">\n",
       "      <th></th>\n",
       "      <th>est_cuenta</th>\n",
       "      <th>duracion</th>\n",
       "      <th>hist_credit</th>\n",
       "      <th>proposito</th>\n",
       "      <th>monto_credito</th>\n",
       "      <th>ahorros</th>\n",
       "      <th>tiempo_empleo</th>\n",
       "      <th>tasa_renta</th>\n",
       "      <th>estatus_sexo</th>\n",
       "      <th>deudas_garantes</th>\n",
       "      <th>...</th>\n",
       "      <th>propiedades</th>\n",
       "      <th>edad</th>\n",
       "      <th>pagos_pend</th>\n",
       "      <th>Tipo_hogar</th>\n",
       "      <th>Num_credit</th>\n",
       "      <th>tipo_trabajo</th>\n",
       "      <th>num_cargas</th>\n",
       "      <th>telefono</th>\n",
       "      <th>trab_extranjero</th>\n",
       "      <th>target</th>\n",
       "    </tr>\n",
       "  </thead>\n",
       "  <tbody>\n",
       "    <tr>\n",
       "      <th>0</th>\n",
       "      <td>A12</td>\n",
       "      <td>30</td>\n",
       "      <td>A34</td>\n",
       "      <td>A40</td>\n",
       "      <td>4249</td>\n",
       "      <td>A61</td>\n",
       "      <td>A71</td>\n",
       "      <td>4</td>\n",
       "      <td>A94</td>\n",
       "      <td>A101</td>\n",
       "      <td>...</td>\n",
       "      <td>A123</td>\n",
       "      <td>28</td>\n",
       "      <td>A143</td>\n",
       "      <td>A152</td>\n",
       "      <td>2</td>\n",
       "      <td>A174</td>\n",
       "      <td>1</td>\n",
       "      <td>A191</td>\n",
       "      <td>A201</td>\n",
       "      <td>2</td>\n",
       "    </tr>\n",
       "    <tr>\n",
       "      <th>1</th>\n",
       "      <td>A14</td>\n",
       "      <td>36</td>\n",
       "      <td>A32</td>\n",
       "      <td>A43</td>\n",
       "      <td>3835</td>\n",
       "      <td>A65</td>\n",
       "      <td>A75</td>\n",
       "      <td>2</td>\n",
       "      <td>A92</td>\n",
       "      <td>A101</td>\n",
       "      <td>...</td>\n",
       "      <td>A121</td>\n",
       "      <td>45</td>\n",
       "      <td>A143</td>\n",
       "      <td>A152</td>\n",
       "      <td>1</td>\n",
       "      <td>A172</td>\n",
       "      <td>1</td>\n",
       "      <td>A192</td>\n",
       "      <td>A201</td>\n",
       "      <td>1</td>\n",
       "    </tr>\n",
       "    <tr>\n",
       "      <th>2</th>\n",
       "      <td>A12</td>\n",
       "      <td>12</td>\n",
       "      <td>A34</td>\n",
       "      <td>A41</td>\n",
       "      <td>1804</td>\n",
       "      <td>A62</td>\n",
       "      <td>A72</td>\n",
       "      <td>3</td>\n",
       "      <td>A93</td>\n",
       "      <td>A101</td>\n",
       "      <td>...</td>\n",
       "      <td>A122</td>\n",
       "      <td>44</td>\n",
       "      <td>A143</td>\n",
       "      <td>A152</td>\n",
       "      <td>1</td>\n",
       "      <td>A173</td>\n",
       "      <td>1</td>\n",
       "      <td>A191</td>\n",
       "      <td>A201</td>\n",
       "      <td>1</td>\n",
       "    </tr>\n",
       "    <tr>\n",
       "      <th>3</th>\n",
       "      <td>A13</td>\n",
       "      <td>12</td>\n",
       "      <td>A31</td>\n",
       "      <td>A49</td>\n",
       "      <td>609</td>\n",
       "      <td>A61</td>\n",
       "      <td>A72</td>\n",
       "      <td>4</td>\n",
       "      <td>A92</td>\n",
       "      <td>A101</td>\n",
       "      <td>...</td>\n",
       "      <td>A121</td>\n",
       "      <td>26</td>\n",
       "      <td>A143</td>\n",
       "      <td>A152</td>\n",
       "      <td>1</td>\n",
       "      <td>A171</td>\n",
       "      <td>1</td>\n",
       "      <td>A191</td>\n",
       "      <td>A201</td>\n",
       "      <td>2</td>\n",
       "    </tr>\n",
       "    <tr>\n",
       "      <th>4</th>\n",
       "      <td>A12</td>\n",
       "      <td>21</td>\n",
       "      <td>A32</td>\n",
       "      <td>A49</td>\n",
       "      <td>2767</td>\n",
       "      <td>A62</td>\n",
       "      <td>A75</td>\n",
       "      <td>4</td>\n",
       "      <td>A91</td>\n",
       "      <td>A101</td>\n",
       "      <td>...</td>\n",
       "      <td>A123</td>\n",
       "      <td>61</td>\n",
       "      <td>A141</td>\n",
       "      <td>A151</td>\n",
       "      <td>2</td>\n",
       "      <td>A172</td>\n",
       "      <td>1</td>\n",
       "      <td>A191</td>\n",
       "      <td>A201</td>\n",
       "      <td>2</td>\n",
       "    </tr>\n",
       "  </tbody>\n",
       "</table>\n",
       "<p>5 rows × 21 columns</p>\n",
       "</div>"
      ],
      "text/plain": [
       "  est_cuenta  duracion hist_credit proposito  monto_credito ahorros  \\\n",
       "0        A12        30         A34       A40           4249     A61   \n",
       "1        A14        36         A32       A43           3835     A65   \n",
       "2        A12        12         A34       A41           1804     A62   \n",
       "3        A13        12         A31       A49            609     A61   \n",
       "4        A12        21         A32       A49           2767     A62   \n",
       "\n",
       "  tiempo_empleo  tasa_renta estatus_sexo deudas_garantes  ...  propiedades  \\\n",
       "0           A71           4          A94            A101  ...         A123   \n",
       "1           A75           2          A92            A101  ...         A121   \n",
       "2           A72           3          A93            A101  ...         A122   \n",
       "3           A72           4          A92            A101  ...         A121   \n",
       "4           A75           4          A91            A101  ...         A123   \n",
       "\n",
       "  edad  pagos_pend Tipo_hogar Num_credit  tipo_trabajo num_cargas  telefono  \\\n",
       "0   28        A143       A152          2          A174          1      A191   \n",
       "1   45        A143       A152          1          A172          1      A192   \n",
       "2   44        A143       A152          1          A173          1      A191   \n",
       "3   26        A143       A152          1          A171          1      A191   \n",
       "4   61        A141       A151          2          A172          1      A191   \n",
       "\n",
       "  trab_extranjero target  \n",
       "0            A201      2  \n",
       "1            A201      1  \n",
       "2            A201      1  \n",
       "3            A201      2  \n",
       "4            A201      2  \n",
       "\n",
       "[5 rows x 21 columns]"
      ]
     },
     "execution_count": 3,
     "metadata": {},
     "output_type": "execute_result"
    }
   ],
   "source": [
    "print(data.shape)\n",
    "data.head()\n"
   ]
  },
  {
   "cell_type": "code",
   "execution_count": 4,
   "metadata": {},
   "outputs": [
    {
     "data": {
      "text/plain": [
       "est_cuenta           object\n",
       "duracion              int64\n",
       "hist_credit          object\n",
       "proposito            object\n",
       "monto_credito         int64\n",
       "ahorros              object\n",
       "tiempo_empleo        object\n",
       "tasa_renta            int64\n",
       "estatus_sexo         object\n",
       "deudas_garantes      object\n",
       "tiempo_residencia     int64\n",
       "propiedades          object\n",
       "edad                  int64\n",
       "pagos_pend           object\n",
       "Tipo_hogar           object\n",
       "Num_credit            int64\n",
       "tipo_trabajo         object\n",
       "num_cargas            int64\n",
       "telefono             object\n",
       "trab_extranjero      object\n",
       "target                int64\n",
       "dtype: object"
      ]
     },
     "execution_count": 4,
     "metadata": {},
     "output_type": "execute_result"
    }
   ],
   "source": [
    "data.dtypes"
   ]
  },
  {
   "cell_type": "markdown",
   "metadata": {},
   "source": [
    "### Nulos en la data\n",
    "\n",
    "La data no contiene nulos, por lo que no es necesario imputar datos "
   ]
  },
  {
   "cell_type": "code",
   "execution_count": 5,
   "metadata": {},
   "outputs": [
    {
     "data": {
      "text/plain": [
       "est_cuenta           0\n",
       "duracion             0\n",
       "hist_credit          0\n",
       "proposito            0\n",
       "monto_credito        0\n",
       "ahorros              0\n",
       "tiempo_empleo        0\n",
       "tasa_renta           0\n",
       "estatus_sexo         0\n",
       "deudas_garantes      0\n",
       "tiempo_residencia    0\n",
       "propiedades          0\n",
       "edad                 0\n",
       "pagos_pend           0\n",
       "Tipo_hogar           0\n",
       "Num_credit           0\n",
       "tipo_trabajo         0\n",
       "num_cargas           0\n",
       "telefono             0\n",
       "trab_extranjero      0\n",
       "target               0\n",
       "dtype: int64"
      ]
     },
     "execution_count": 5,
     "metadata": {},
     "output_type": "execute_result"
    }
   ],
   "source": [
    "data.isnull().sum()"
   ]
  },
  {
   "cell_type": "markdown",
   "metadata": {},
   "source": [
    "### Cantidad buenos y malos \n",
    "\n",
    "Podemos apreciar que tenemos más bueno que malos en la data por lo que existe un desvalanceo de clases, por lo que hay que tener especial cuidado con las metricas de los modelos. "
   ]
  },
  {
   "cell_type": "code",
   "execution_count": 6,
   "metadata": {},
   "outputs": [
    {
     "name": "stdout",
     "output_type": "stream",
     "text": [
      "0    632\n",
      "1    268\n",
      "Name: target, dtype: int64\n"
     ]
    },
    {
     "data": {
      "image/png": "[encoded data removed]",
      "text/plain": [
       "<Figure size 720x360 with 1 Axes>"
      ]
     },
     "metadata": {
      "needs_background": "light"
     },
     "output_type": "display_data"
    }
   ],
   "source": [
    "data['target'].replace([1,2], [0,1], inplace=True)\n",
    "\n",
    "plt.figure(figsize = (10,5))\n",
    "sns.countplot(x='target', data = data)\n",
    "print(data['target'].value_counts())"
   ]
  },
  {
   "cell_type": "markdown",
   "metadata": {},
   "source": [
    "## Ingeniería de variables\n",
    "\n",
    "En este sección sólo haremos un pequeño cambio y es recodificar las varibles categoricas para no tener problemas con los fúturos modelos que utilizaremos "
   ]
  },
  {
   "cell_type": "code",
   "execution_count": 7,
   "metadata": {},
   "outputs": [
    {
     "data": {
      "text/plain": [
       "['est_cuenta',\n",
       " 'hist_credit',\n",
       " 'proposito',\n",
       " 'ahorros',\n",
       " 'tiempo_empleo',\n",
       " 'estatus_sexo',\n",
       " 'deudas_garantes',\n",
       " 'propiedades',\n",
       " 'pagos_pend',\n",
       " 'Tipo_hogar',\n",
       " 'tipo_trabajo',\n",
       " 'telefono',\n",
       " 'trab_extranjero']"
      ]
     },
     "execution_count": 7,
     "metadata": {},
     "output_type": "execute_result"
    }
   ],
   "source": [
    "categorical_feature_mask = data.dtypes==object\n",
    "categorical_cols = data.columns[categorical_feature_mask].tolist()\n",
    "categorical_cols"
   ]
  },
  {
   "cell_type": "code",
   "execution_count": 8,
   "metadata": {},
   "outputs": [
    {
     "data": {
      "text/html": [
       "<div>\n",
       "<style scoped>\n",
       "    .dataframe tbody tr th:only-of-type {\n",
       "        vertical-align: middle;\n",
       "    }\n",
       "\n",
       "    .dataframe tbody tr th {\n",
       "        vertical-align: top;\n",
       "    }\n",
       "\n",
       "    .dataframe thead th {\n",
       "        text-align: right;\n",
       "    }\n",
       "</style>\n",
       "<table border=\"1\" class=\"dataframe\">\n",
       "  <thead>\n",
       "    <tr style=\"text-align: right;\">\n",
       "      <th></th>\n",
       "      <th>est_cuenta</th>\n",
       "      <th>duracion</th>\n",
       "      <th>hist_credit</th>\n",
       "      <th>proposito</th>\n",
       "      <th>monto_credito</th>\n",
       "      <th>ahorros</th>\n",
       "      <th>tiempo_empleo</th>\n",
       "      <th>tasa_renta</th>\n",
       "      <th>estatus_sexo</th>\n",
       "      <th>deudas_garantes</th>\n",
       "      <th>...</th>\n",
       "      <th>propiedades</th>\n",
       "      <th>edad</th>\n",
       "      <th>pagos_pend</th>\n",
       "      <th>Tipo_hogar</th>\n",
       "      <th>Num_credit</th>\n",
       "      <th>tipo_trabajo</th>\n",
       "      <th>num_cargas</th>\n",
       "      <th>telefono</th>\n",
       "      <th>trab_extranjero</th>\n",
       "      <th>target</th>\n",
       "    </tr>\n",
       "  </thead>\n",
       "  <tbody>\n",
       "    <tr>\n",
       "      <th>0</th>\n",
       "      <td>1</td>\n",
       "      <td>30</td>\n",
       "      <td>4</td>\n",
       "      <td>0</td>\n",
       "      <td>4249</td>\n",
       "      <td>0</td>\n",
       "      <td>0</td>\n",
       "      <td>4</td>\n",
       "      <td>3</td>\n",
       "      <td>0</td>\n",
       "      <td>...</td>\n",
       "      <td>2</td>\n",
       "      <td>28</td>\n",
       "      <td>2</td>\n",
       "      <td>1</td>\n",
       "      <td>2</td>\n",
       "      <td>3</td>\n",
       "      <td>1</td>\n",
       "      <td>0</td>\n",
       "      <td>0</td>\n",
       "      <td>1</td>\n",
       "    </tr>\n",
       "    <tr>\n",
       "      <th>1</th>\n",
       "      <td>3</td>\n",
       "      <td>36</td>\n",
       "      <td>2</td>\n",
       "      <td>4</td>\n",
       "      <td>3835</td>\n",
       "      <td>4</td>\n",
       "      <td>4</td>\n",
       "      <td>2</td>\n",
       "      <td>1</td>\n",
       "      <td>0</td>\n",
       "      <td>...</td>\n",
       "      <td>0</td>\n",
       "      <td>45</td>\n",
       "      <td>2</td>\n",
       "      <td>1</td>\n",
       "      <td>1</td>\n",
       "      <td>1</td>\n",
       "      <td>1</td>\n",
       "      <td>1</td>\n",
       "      <td>0</td>\n",
       "      <td>0</td>\n",
       "    </tr>\n",
       "    <tr>\n",
       "      <th>2</th>\n",
       "      <td>1</td>\n",
       "      <td>12</td>\n",
       "      <td>4</td>\n",
       "      <td>1</td>\n",
       "      <td>1804</td>\n",
       "      <td>1</td>\n",
       "      <td>1</td>\n",
       "      <td>3</td>\n",
       "      <td>2</td>\n",
       "      <td>0</td>\n",
       "      <td>...</td>\n",
       "      <td>1</td>\n",
       "      <td>44</td>\n",
       "      <td>2</td>\n",
       "      <td>1</td>\n",
       "      <td>1</td>\n",
       "      <td>2</td>\n",
       "      <td>1</td>\n",
       "      <td>0</td>\n",
       "      <td>0</td>\n",
       "      <td>0</td>\n",
       "    </tr>\n",
       "    <tr>\n",
       "      <th>3</th>\n",
       "      <td>2</td>\n",
       "      <td>12</td>\n",
       "      <td>1</td>\n",
       "      <td>9</td>\n",
       "      <td>609</td>\n",
       "      <td>0</td>\n",
       "      <td>1</td>\n",
       "      <td>4</td>\n",
       "      <td>1</td>\n",
       "      <td>0</td>\n",
       "      <td>...</td>\n",
       "      <td>0</td>\n",
       "      <td>26</td>\n",
       "      <td>2</td>\n",
       "      <td>1</td>\n",
       "      <td>1</td>\n",
       "      <td>0</td>\n",
       "      <td>1</td>\n",
       "      <td>0</td>\n",
       "      <td>0</td>\n",
       "      <td>1</td>\n",
       "    </tr>\n",
       "    <tr>\n",
       "      <th>4</th>\n",
       "      <td>1</td>\n",
       "      <td>21</td>\n",
       "      <td>2</td>\n",
       "      <td>9</td>\n",
       "      <td>2767</td>\n",
       "      <td>1</td>\n",
       "      <td>4</td>\n",
       "      <td>4</td>\n",
       "      <td>0</td>\n",
       "      <td>0</td>\n",
       "      <td>...</td>\n",
       "      <td>2</td>\n",
       "      <td>61</td>\n",
       "      <td>0</td>\n",
       "      <td>0</td>\n",
       "      <td>2</td>\n",
       "      <td>1</td>\n",
       "      <td>1</td>\n",
       "      <td>0</td>\n",
       "      <td>0</td>\n",
       "      <td>1</td>\n",
       "    </tr>\n",
       "  </tbody>\n",
       "</table>\n",
       "<p>5 rows × 21 columns</p>\n",
       "</div>"
      ],
      "text/plain": [
       "   est_cuenta  duracion  hist_credit  proposito  monto_credito  ahorros  \\\n",
       "0           1        30            4          0           4249        0   \n",
       "1           3        36            2          4           3835        4   \n",
       "2           1        12            4          1           1804        1   \n",
       "3           2        12            1          9            609        0   \n",
       "4           1        21            2          9           2767        1   \n",
       "\n",
       "   tiempo_empleo  tasa_renta  estatus_sexo  deudas_garantes  ...  propiedades  \\\n",
       "0              0           4             3                0  ...            2   \n",
       "1              4           2             1                0  ...            0   \n",
       "2              1           3             2                0  ...            1   \n",
       "3              1           4             1                0  ...            0   \n",
       "4              4           4             0                0  ...            2   \n",
       "\n",
       "   edad  pagos_pend  Tipo_hogar  Num_credit  tipo_trabajo  num_cargas  \\\n",
       "0    28           2           1           2             3           1   \n",
       "1    45           2           1           1             1           1   \n",
       "2    44           2           1           1             2           1   \n",
       "3    26           2           1           1             0           1   \n",
       "4    61           0           0           2             1           1   \n",
       "\n",
       "   telefono  trab_extranjero  target  \n",
       "0         0                0       1  \n",
       "1         1                0       0  \n",
       "2         0                0       0  \n",
       "3         0                0       1  \n",
       "4         0                0       1  \n",
       "\n",
       "[5 rows x 21 columns]"
      ]
     },
     "execution_count": 8,
     "metadata": {},
     "output_type": "execute_result"
    }
   ],
   "source": [
    "le = LabelEncoder()\n",
    "data[categorical_cols] = data[categorical_cols].apply(lambda col: le.fit_transform(col))\n",
    "\n",
    "data.head()"
   ]
  },
  {
   "cell_type": "markdown",
   "metadata": {},
   "source": [
    "### Correlación entre variables\n"
   ]
  },
  {
   "cell_type": "code",
   "execution_count": 9,
   "metadata": {},
   "outputs": [
    {
     "data": {
      "image/png": "[encoded data removed]",
      "text/plain": [
       "<Figure size 1008x576 with 2 Axes>"
      ]
     },
     "metadata": {
      "needs_background": "light"
     },
     "output_type": "display_data"
    }
   ],
   "source": [
    "# inicializamos correlación\n",
    "corr = data.corr()\n",
    "# Configuramos Mascara\n",
    "mask = np.zeros_like(corr, dtype=np.bool)\n",
    "mask[np.triu_indices_from(mask)] = True\n",
    "# Tamaño figura\n",
    "plt.figure(figsize=(14, 8))\n",
    "# Titulo\n",
    "plt.title('Overall Correlation of Titanic Features', fontsize=18)\n",
    "# Correlation matrix\n",
    "sns.heatmap(corr, mask=mask, annot=False,cmap='RdYlGn', linewidths=0.2, annot_kws={'size':20})\n",
    "plt.show()"
   ]
  },
  {
   "cell_type": "markdown",
   "metadata": {},
   "source": [
    "# Machine Learning \n",
    "\n",
    "Para elegir el mejor algoritmo de machine learning echaremos a competir los siguientes modelos: \n",
    "\n",
    "- Random Forest\n",
    "- KNN\n",
    "- Logistic Regression\n",
    "- XGB\n",
    "- Gradient Boosting\n",
    "- SVC\n",
    "- Extra Trees\n",
    "- AdaBoost\n",
    "- GaussianNB\n",
    "- Gaussian Process\n",
    "- Bagging\n",
    "\n",
    "En cuatro Rount:\n",
    "\n",
    "(La métrica utilizada para comparar los modelos será el índice Kappa (dado que las clases no están balanceadas))\n",
    "\n",
    "- 1) Entrenamiento con todas la variables y sólo con los modelos inicializados (se comparan en entrenamiento)\n",
    "- 2) Entrenamiento de modelos inicializados pero con selección de variables \n",
    "- 3) Entrenamiento cambiando los Hiperparámetros de los modelos \n",
    "- 4) Comparación en test \n"
   ]
  },
  {
   "cell_type": "markdown",
   "metadata": {},
   "source": [
    "### Muestras de entrenamiento y prueba"
   ]
  },
  {
   "cell_type": "code",
   "execution_count": 10,
   "metadata": {},
   "outputs": [],
   "source": [
    "X_train, X_test, y_train, y_test =  train_test_split(data.drop('target', axis=1), data['target'],  test_size=0.3, random_state=40)\n"
   ]
  },
  {
   "cell_type": "code",
   "execution_count": 91,
   "metadata": {},
   "outputs": [
    {
     "data": {
      "text/plain": [
       "0    187\n",
       "1     83\n",
       "Name: target, dtype: int64"
      ]
     },
     "execution_count": 91,
     "metadata": {},
     "output_type": "execute_result"
    }
   ],
   "source": [
    "y_test.value_counts()"
   ]
  },
  {
   "cell_type": "markdown",
   "metadata": {},
   "source": [
    "### Random under-sampling\n",
    "\n",
    "Aqui realizamos un balancea hacia arriba para la muetra de entrenamienta rellenando aleatoriamente con observaciones sacadas de la data de entrenamiento. "
   ]
  },
  {
   "cell_type": "code",
   "execution_count": 11,
   "metadata": {},
   "outputs": [
    {
     "name": "stdout",
     "output_type": "stream",
     "text": [
      "1    445\n",
      "0    445\n",
      "Name: target, dtype: int64\n"
     ]
    }
   ],
   "source": [
    "X = pd.concat([X_train, y_train], axis=1)\n",
    "\n",
    "Buenos = X[X.target==0]\n",
    "Malos = X[X.target==1]\n",
    "\n",
    "Malos_upsampled = resample(Malos,\n",
    "                          replace=True,\n",
    "                          n_samples=len(Buenos),\n",
    "                          random_state=27) \n",
    "\n",
    "\n",
    "upsampled = pd.concat([Buenos, Malos_upsampled])\n",
    "print(upsampled.target.value_counts())\n",
    "\n",
    "y_train = upsampled.target\n",
    "X_train = upsampled.drop('target', axis=1)\n",
    "\n",
    "scaler = StandardScaler()\n",
    "X_train_scaler = scaler.fit_transform(X_train)\n",
    "X_test_scaler = scaler.transform(X_test)"
   ]
  },
  {
   "cell_type": "markdown",
   "metadata": {},
   "source": [
    "## Round 1: Modelos inicializados\n",
    "\n",
    "Se inicializan los modelos y se ajustas  (Se dejan los hiperparametros que vienen por defecto en cada función)"
   ]
  },
  {
   "cell_type": "code",
   "execution_count": 12,
   "metadata": {},
   "outputs": [],
   "source": [
    "ran = RandomForestClassifier(random_state=1)\n",
    "knn = KNeighborsClassifier()\n",
    "log = LogisticRegression()\n",
    "xgb = XGBClassifier()\n",
    "gbc = GradientBoostingClassifier()\n",
    "svc = SVC(random_state=1, probability=True)\n",
    "ext = ExtraTreesClassifier()\n",
    "ada = AdaBoostClassifier()\n",
    "gnb = GaussianNB()\n",
    "gpc = GaussianProcessClassifier()\n",
    "bag = BaggingClassifier()\n",
    "\n",
    "# Prepare lists\n",
    "models = [ran, knn, log, xgb, gbc, svc, ext, ada, gnb, gpc, bag]         \n",
    "scores = []\n",
    "scorer = make_scorer(cohen_kappa_score)\n",
    "\n",
    "# Sequentially fit and cross validate all models\n",
    "for mod in models:\n",
    "    mod.fit(X_train_scaler, y_train)\n",
    "    KPP = cross_val_score(mod, X_train_scaler, y_train, scoring = scorer, cv = 10)\n",
    "    scores.append(KPP.mean())"
   ]
  },
  {
   "cell_type": "markdown",
   "metadata": {},
   "source": [
    "Se crea un data frame para vizualizar los modelos que tuvieron mayor desempeño en entrenamiento, para esto se utilizó el indice Kappa"
   ]
  },
  {
   "cell_type": "code",
   "execution_count": 13,
   "metadata": {},
   "outputs": [
    {
     "data": {
      "text/html": [
       "<div>\n",
       "<style scoped>\n",
       "    .dataframe tbody tr th:only-of-type {\n",
       "        vertical-align: middle;\n",
       "    }\n",
       "\n",
       "    .dataframe tbody tr th {\n",
       "        vertical-align: top;\n",
       "    }\n",
       "\n",
       "    .dataframe thead th {\n",
       "        text-align: right;\n",
       "    }\n",
       "</style>\n",
       "<table border=\"1\" class=\"dataframe\">\n",
       "  <thead>\n",
       "    <tr style=\"text-align: right;\">\n",
       "      <th></th>\n",
       "      <th>Model</th>\n",
       "      <th>KPP</th>\n",
       "    </tr>\n",
       "  </thead>\n",
       "  <tbody>\n",
       "    <tr>\n",
       "      <th>0</th>\n",
       "      <td>Extra Trees</td>\n",
       "      <td>0.822475</td>\n",
       "    </tr>\n",
       "    <tr>\n",
       "      <th>1</th>\n",
       "      <td>Random Forest</td>\n",
       "      <td>0.775556</td>\n",
       "    </tr>\n",
       "    <tr>\n",
       "      <th>2</th>\n",
       "      <td>Bagging Classifier</td>\n",
       "      <td>0.752929</td>\n",
       "    </tr>\n",
       "    <tr>\n",
       "      <th>3</th>\n",
       "      <td>Gaussian Process</td>\n",
       "      <td>0.732727</td>\n",
       "    </tr>\n",
       "    <tr>\n",
       "      <th>4</th>\n",
       "      <td>Gradient Boosting</td>\n",
       "      <td>0.710556</td>\n",
       "    </tr>\n",
       "    <tr>\n",
       "      <th>5</th>\n",
       "      <td>XGBoost</td>\n",
       "      <td>0.636010</td>\n",
       "    </tr>\n",
       "    <tr>\n",
       "      <th>6</th>\n",
       "      <td>SVC</td>\n",
       "      <td>0.620354</td>\n",
       "    </tr>\n",
       "    <tr>\n",
       "      <th>7</th>\n",
       "      <td>K Nearest Neighbour</td>\n",
       "      <td>0.528030</td>\n",
       "    </tr>\n",
       "    <tr>\n",
       "      <th>8</th>\n",
       "      <td>AdaBoost</td>\n",
       "      <td>0.503636</td>\n",
       "    </tr>\n",
       "    <tr>\n",
       "      <th>9</th>\n",
       "      <td>Logistic Regression</td>\n",
       "      <td>0.393384</td>\n",
       "    </tr>\n",
       "    <tr>\n",
       "      <th>10</th>\n",
       "      <td>Gaussian Naive Bayes</td>\n",
       "      <td>0.359596</td>\n",
       "    </tr>\n",
       "  </tbody>\n",
       "</table>\n",
       "</div>"
      ],
      "text/plain": [
       "                   Model       KPP\n",
       "0            Extra Trees  0.822475\n",
       "1          Random Forest  0.775556\n",
       "2     Bagging Classifier  0.752929\n",
       "3       Gaussian Process  0.732727\n",
       "4      Gradient Boosting  0.710556\n",
       "5                XGBoost  0.636010\n",
       "6                    SVC  0.620354\n",
       "7    K Nearest Neighbour  0.528030\n",
       "8               AdaBoost  0.503636\n",
       "9    Logistic Regression  0.393384\n",
       "10  Gaussian Naive Bayes  0.359596"
      ]
     },
     "execution_count": 13,
     "metadata": {},
     "output_type": "execute_result"
    }
   ],
   "source": [
    "results = pd.DataFrame({\n",
    "    'Model': ['Random Forest', 'K Nearest Neighbour', 'Logistic Regression', 'XGBoost', 'Gradient Boosting', 'SVC', 'Extra Trees', 'AdaBoost', 'Gaussian Naive Bayes', 'Gaussian Process', 'Bagging Classifier'],\n",
    "    'KPP': scores})\n",
    "\n",
    "result_df = results.sort_values(by='KPP', ascending=False).reset_index(drop=True)\n",
    "result_df.head(11)"
   ]
  },
  {
   "cell_type": "markdown",
   "metadata": {},
   "source": [
    "## Rount 2:  Seleccion de variables\n",
    "\n",
    "Utilizaremos las variables con un promedio de importancia mayor o igual 0.03"
   ]
  },
  {
   "cell_type": "code",
   "execution_count": 14,
   "metadata": {},
   "outputs": [
    {
     "data": {
      "text/html": [
       "<div>\n",
       "<style scoped>\n",
       "    .dataframe tbody tr th:only-of-type {\n",
       "        vertical-align: middle;\n",
       "    }\n",
       "\n",
       "    .dataframe tbody tr th {\n",
       "        vertical-align: top;\n",
       "    }\n",
       "\n",
       "    .dataframe thead th {\n",
       "        text-align: right;\n",
       "    }\n",
       "</style>\n",
       "<table border=\"1\" class=\"dataframe\">\n",
       "  <thead>\n",
       "    <tr style=\"text-align: right;\">\n",
       "      <th></th>\n",
       "      <th>Feature</th>\n",
       "      <th>gbc importance</th>\n",
       "      <th>xgb importance</th>\n",
       "      <th>ran importance</th>\n",
       "      <th>ext importance</th>\n",
       "      <th>ada importance</th>\n",
       "      <th>Average</th>\n",
       "    </tr>\n",
       "  </thead>\n",
       "  <tbody>\n",
       "    <tr>\n",
       "      <th>0</th>\n",
       "      <td>monto_credito</td>\n",
       "      <td>0.171889</td>\n",
       "      <td>0.045254</td>\n",
       "      <td>0.117326</td>\n",
       "      <td>0.063839</td>\n",
       "      <td>0.40</td>\n",
       "      <td>0.159662</td>\n",
       "    </tr>\n",
       "    <tr>\n",
       "      <th>1</th>\n",
       "      <td>est_cuenta</td>\n",
       "      <td>0.213145</td>\n",
       "      <td>0.175379</td>\n",
       "      <td>0.148778</td>\n",
       "      <td>0.133530</td>\n",
       "      <td>0.02</td>\n",
       "      <td>0.138166</td>\n",
       "    </tr>\n",
       "    <tr>\n",
       "      <th>2</th>\n",
       "      <td>edad</td>\n",
       "      <td>0.117436</td>\n",
       "      <td>0.048363</td>\n",
       "      <td>0.107746</td>\n",
       "      <td>0.065291</td>\n",
       "      <td>0.16</td>\n",
       "      <td>0.099767</td>\n",
       "    </tr>\n",
       "    <tr>\n",
       "      <th>3</th>\n",
       "      <td>duracion</td>\n",
       "      <td>0.104457</td>\n",
       "      <td>0.054113</td>\n",
       "      <td>0.099341</td>\n",
       "      <td>0.069750</td>\n",
       "      <td>0.06</td>\n",
       "      <td>0.077532</td>\n",
       "    </tr>\n",
       "    <tr>\n",
       "      <th>4</th>\n",
       "      <td>proposito</td>\n",
       "      <td>0.057345</td>\n",
       "      <td>0.044966</td>\n",
       "      <td>0.064830</td>\n",
       "      <td>0.059902</td>\n",
       "      <td>0.08</td>\n",
       "      <td>0.061409</td>\n",
       "    </tr>\n",
       "    <tr>\n",
       "      <th>5</th>\n",
       "      <td>tiempo_empleo</td>\n",
       "      <td>0.069891</td>\n",
       "      <td>0.046632</td>\n",
       "      <td>0.059478</td>\n",
       "      <td>0.064617</td>\n",
       "      <td>0.02</td>\n",
       "      <td>0.052124</td>\n",
       "    </tr>\n",
       "    <tr>\n",
       "      <th>6</th>\n",
       "      <td>hist_credit</td>\n",
       "      <td>0.048888</td>\n",
       "      <td>0.051971</td>\n",
       "      <td>0.043876</td>\n",
       "      <td>0.063763</td>\n",
       "      <td>0.04</td>\n",
       "      <td>0.049699</td>\n",
       "    </tr>\n",
       "    <tr>\n",
       "      <th>7</th>\n",
       "      <td>ahorros</td>\n",
       "      <td>0.041671</td>\n",
       "      <td>0.051501</td>\n",
       "      <td>0.046708</td>\n",
       "      <td>0.055944</td>\n",
       "      <td>0.04</td>\n",
       "      <td>0.047165</td>\n",
       "    </tr>\n",
       "    <tr>\n",
       "      <th>8</th>\n",
       "      <td>pagos_pend</td>\n",
       "      <td>0.044654</td>\n",
       "      <td>0.063825</td>\n",
       "      <td>0.028479</td>\n",
       "      <td>0.041650</td>\n",
       "      <td>0.02</td>\n",
       "      <td>0.039721</td>\n",
       "    </tr>\n",
       "    <tr>\n",
       "      <th>9</th>\n",
       "      <td>propiedades</td>\n",
       "      <td>0.028985</td>\n",
       "      <td>0.048963</td>\n",
       "      <td>0.049981</td>\n",
       "      <td>0.047949</td>\n",
       "      <td>0.02</td>\n",
       "      <td>0.039176</td>\n",
       "    </tr>\n",
       "    <tr>\n",
       "      <th>10</th>\n",
       "      <td>tasa_renta</td>\n",
       "      <td>0.029916</td>\n",
       "      <td>0.054514</td>\n",
       "      <td>0.041289</td>\n",
       "      <td>0.044641</td>\n",
       "      <td>0.02</td>\n",
       "      <td>0.038072</td>\n",
       "    </tr>\n",
       "    <tr>\n",
       "      <th>11</th>\n",
       "      <td>tiempo_residencia</td>\n",
       "      <td>0.018172</td>\n",
       "      <td>0.035223</td>\n",
       "      <td>0.040970</td>\n",
       "      <td>0.044293</td>\n",
       "      <td>0.02</td>\n",
       "      <td>0.031732</td>\n",
       "    </tr>\n",
       "    <tr>\n",
       "      <th>12</th>\n",
       "      <td>estatus_sexo</td>\n",
       "      <td>0.005522</td>\n",
       "      <td>0.046849</td>\n",
       "      <td>0.022311</td>\n",
       "      <td>0.052750</td>\n",
       "      <td>0.02</td>\n",
       "      <td>0.029486</td>\n",
       "    </tr>\n",
       "    <tr>\n",
       "      <th>13</th>\n",
       "      <td>deudas_garantes</td>\n",
       "      <td>0.016672</td>\n",
       "      <td>0.060725</td>\n",
       "      <td>0.015567</td>\n",
       "      <td>0.031667</td>\n",
       "      <td>0.00</td>\n",
       "      <td>0.024926</td>\n",
       "    </tr>\n",
       "    <tr>\n",
       "      <th>14</th>\n",
       "      <td>Tipo_hogar</td>\n",
       "      <td>0.010737</td>\n",
       "      <td>0.023158</td>\n",
       "      <td>0.025268</td>\n",
       "      <td>0.034992</td>\n",
       "      <td>0.02</td>\n",
       "      <td>0.022831</td>\n",
       "    </tr>\n",
       "    <tr>\n",
       "      <th>15</th>\n",
       "      <td>telefono</td>\n",
       "      <td>0.001434</td>\n",
       "      <td>0.036866</td>\n",
       "      <td>0.017605</td>\n",
       "      <td>0.032376</td>\n",
       "      <td>0.02</td>\n",
       "      <td>0.021656</td>\n",
       "    </tr>\n",
       "    <tr>\n",
       "      <th>16</th>\n",
       "      <td>tipo_trabajo</td>\n",
       "      <td>0.010817</td>\n",
       "      <td>0.017597</td>\n",
       "      <td>0.031367</td>\n",
       "      <td>0.036221</td>\n",
       "      <td>0.00</td>\n",
       "      <td>0.019200</td>\n",
       "    </tr>\n",
       "    <tr>\n",
       "      <th>17</th>\n",
       "      <td>num_cargas</td>\n",
       "      <td>0.002736</td>\n",
       "      <td>0.028687</td>\n",
       "      <td>0.015105</td>\n",
       "      <td>0.024934</td>\n",
       "      <td>0.02</td>\n",
       "      <td>0.018292</td>\n",
       "    </tr>\n",
       "    <tr>\n",
       "      <th>18</th>\n",
       "      <td>Num_credit</td>\n",
       "      <td>0.001601</td>\n",
       "      <td>0.035466</td>\n",
       "      <td>0.019115</td>\n",
       "      <td>0.023315</td>\n",
       "      <td>0.00</td>\n",
       "      <td>0.015899</td>\n",
       "    </tr>\n",
       "    <tr>\n",
       "      <th>19</th>\n",
       "      <td>trab_extranjero</td>\n",
       "      <td>0.004031</td>\n",
       "      <td>0.029949</td>\n",
       "      <td>0.004860</td>\n",
       "      <td>0.008577</td>\n",
       "      <td>0.02</td>\n",
       "      <td>0.013483</td>\n",
       "    </tr>\n",
       "  </tbody>\n",
       "</table>\n",
       "</div>"
      ],
      "text/plain": [
       "              Feature  gbc importance  xgb importance  ran importance  \\\n",
       "0       monto_credito        0.171889        0.045254        0.117326   \n",
       "1          est_cuenta        0.213145        0.175379        0.148778   \n",
       "2                edad        0.117436        0.048363        0.107746   \n",
       "3            duracion        0.104457        0.054113        0.099341   \n",
       "4           proposito        0.057345        0.044966        0.064830   \n",
       "5       tiempo_empleo        0.069891        0.046632        0.059478   \n",
       "6         hist_credit        0.048888        0.051971        0.043876   \n",
       "7             ahorros        0.041671        0.051501        0.046708   \n",
       "8          pagos_pend        0.044654        0.063825        0.028479   \n",
       "9         propiedades        0.028985        0.048963        0.049981   \n",
       "10         tasa_renta        0.029916        0.054514        0.041289   \n",
       "11  tiempo_residencia        0.018172        0.035223        0.040970   \n",
       "12       estatus_sexo        0.005522        0.046849        0.022311   \n",
       "13    deudas_garantes        0.016672        0.060725        0.015567   \n",
       "14         Tipo_hogar        0.010737        0.023158        0.025268   \n",
       "15           telefono        0.001434        0.036866        0.017605   \n",
       "16       tipo_trabajo        0.010817        0.017597        0.031367   \n",
       "17         num_cargas        0.002736        0.028687        0.015105   \n",
       "18         Num_credit        0.001601        0.035466        0.019115   \n",
       "19    trab_extranjero        0.004031        0.029949        0.004860   \n",
       "\n",
       "    ext importance  ada importance   Average  \n",
       "0         0.063839            0.40  0.159662  \n",
       "1         0.133530            0.02  0.138166  \n",
       "2         0.065291            0.16  0.099767  \n",
       "3         0.069750            0.06  0.077532  \n",
       "4         0.059902            0.08  0.061409  \n",
       "5         0.064617            0.02  0.052124  \n",
       "6         0.063763            0.04  0.049699  \n",
       "7         0.055944            0.04  0.047165  \n",
       "8         0.041650            0.02  0.039721  \n",
       "9         0.047949            0.02  0.039176  \n",
       "10        0.044641            0.02  0.038072  \n",
       "11        0.044293            0.02  0.031732  \n",
       "12        0.052750            0.02  0.029486  \n",
       "13        0.031667            0.00  0.024926  \n",
       "14        0.034992            0.02  0.022831  \n",
       "15        0.032376            0.02  0.021656  \n",
       "16        0.036221            0.00  0.019200  \n",
       "17        0.024934            0.02  0.018292  \n",
       "18        0.023315            0.00  0.015899  \n",
       "19        0.008577            0.02  0.013483  "
      ]
     },
     "execution_count": 14,
     "metadata": {},
     "output_type": "execute_result"
    }
   ],
   "source": [
    "# Getting feature importances for the 5 models where we can\n",
    "ada_imp = pd.DataFrame({'Feature':data.drop('target', axis=1).columns, 'ada importance':ada.feature_importances_})\n",
    "gbc_imp = pd.DataFrame({'Feature':data.drop('target', axis=1).columns, 'gbc importance':gbc.feature_importances_})\n",
    "xgb_imp = pd.DataFrame({'Feature':data.drop('target', axis=1).columns, 'xgb importance':xgb.feature_importances_})\n",
    "ran_imp = pd.DataFrame({'Feature':data.drop('target', axis=1).columns, 'ran importance':ran.feature_importances_})\n",
    "ext_imp = pd.DataFrame({'Feature':data.drop('target', axis=1).columns, 'ext importance':ext.feature_importances_})\n",
    "\n",
    "\n",
    "\n",
    "# Merging results into a single dataframe\n",
    "importancia = gbc_imp.merge(xgb_imp, on='Feature').merge(ran_imp, on='Feature').merge(ext_imp, on='Feature').merge(ada_imp, on='Feature')\n",
    "\n",
    "# Calculating average importance per feature\n",
    "importancia['Average'] = importancia.mean(axis=1)\n",
    "\n",
    "# Ranking top to bottom\n",
    "importancia = importancia.sort_values(by='Average', ascending=False).reset_index(drop=True)\n",
    "\n",
    "Variables_importantes = importancia['Feature'].head(12).values\n",
    "importancia"
   ]
  },
  {
   "cell_type": "markdown",
   "metadata": {},
   "source": [
    "Se eliminan las varibles que no fueron consideradas importantes y se recrea una nueva muestra de entrenamiento y test "
   ]
  },
  {
   "cell_type": "code",
   "execution_count": 15,
   "metadata": {},
   "outputs": [],
   "source": [
    "# Re-build model variables\n",
    "X_train_select = X_train[Variables_importantes]\n",
    "X_test_select = X_test[Variables_importantes]\n",
    "\n",
    "scaler = StandardScaler()\n",
    "X_train_scaler = scaler.fit_transform(X_train_select)\n",
    "X_test_scaler = scaler.transform(X_test_select)\n"
   ]
  },
  {
   "cell_type": "code",
   "execution_count": 16,
   "metadata": {},
   "outputs": [
    {
     "data": {
      "text/html": [
       "<div>\n",
       "<style scoped>\n",
       "    .dataframe tbody tr th:only-of-type {\n",
       "        vertical-align: middle;\n",
       "    }\n",
       "\n",
       "    .dataframe tbody tr th {\n",
       "        vertical-align: top;\n",
       "    }\n",
       "\n",
       "    .dataframe thead th {\n",
       "        text-align: right;\n",
       "    }\n",
       "</style>\n",
       "<table border=\"1\" class=\"dataframe\">\n",
       "  <thead>\n",
       "    <tr style=\"text-align: right;\">\n",
       "      <th></th>\n",
       "      <th>Model</th>\n",
       "      <th>Original KPP</th>\n",
       "      <th>KPP with feature selection</th>\n",
       "    </tr>\n",
       "  </thead>\n",
       "  <tbody>\n",
       "    <tr>\n",
       "      <th>0</th>\n",
       "      <td>Extra Trees</td>\n",
       "      <td>0.822475</td>\n",
       "      <td>0.854192</td>\n",
       "    </tr>\n",
       "    <tr>\n",
       "      <th>1</th>\n",
       "      <td>Random Forest</td>\n",
       "      <td>0.775556</td>\n",
       "      <td>0.797727</td>\n",
       "    </tr>\n",
       "    <tr>\n",
       "      <th>2</th>\n",
       "      <td>Bagging Classifier</td>\n",
       "      <td>0.752929</td>\n",
       "      <td>0.786515</td>\n",
       "    </tr>\n",
       "    <tr>\n",
       "      <th>3</th>\n",
       "      <td>Gaussian Process</td>\n",
       "      <td>0.732727</td>\n",
       "      <td>0.735152</td>\n",
       "    </tr>\n",
       "    <tr>\n",
       "      <th>4</th>\n",
       "      <td>Gradient Boosting</td>\n",
       "      <td>0.710556</td>\n",
       "      <td>0.726566</td>\n",
       "    </tr>\n",
       "    <tr>\n",
       "      <th>5</th>\n",
       "      <td>XGBoost</td>\n",
       "      <td>0.636010</td>\n",
       "      <td>0.683333</td>\n",
       "    </tr>\n",
       "    <tr>\n",
       "      <th>6</th>\n",
       "      <td>SVC</td>\n",
       "      <td>0.620354</td>\n",
       "      <td>0.543990</td>\n",
       "    </tr>\n",
       "    <tr>\n",
       "      <th>7</th>\n",
       "      <td>AdaBoost</td>\n",
       "      <td>0.503636</td>\n",
       "      <td>0.494596</td>\n",
       "    </tr>\n",
       "    <tr>\n",
       "      <th>8</th>\n",
       "      <td>K Nearest Neighbour</td>\n",
       "      <td>0.528030</td>\n",
       "      <td>0.463283</td>\n",
       "    </tr>\n",
       "    <tr>\n",
       "      <th>9</th>\n",
       "      <td>Logistic Regression</td>\n",
       "      <td>0.393384</td>\n",
       "      <td>0.420556</td>\n",
       "    </tr>\n",
       "    <tr>\n",
       "      <th>10</th>\n",
       "      <td>Gaussian Naive Bayes</td>\n",
       "      <td>0.359596</td>\n",
       "      <td>0.407222</td>\n",
       "    </tr>\n",
       "  </tbody>\n",
       "</table>\n",
       "</div>"
      ],
      "text/plain": [
       "                   Model  Original KPP  KPP with feature selection\n",
       "0            Extra Trees      0.822475                    0.854192\n",
       "1          Random Forest      0.775556                    0.797727\n",
       "2     Bagging Classifier      0.752929                    0.786515\n",
       "3       Gaussian Process      0.732727                    0.735152\n",
       "4      Gradient Boosting      0.710556                    0.726566\n",
       "5                XGBoost      0.636010                    0.683333\n",
       "6                    SVC      0.620354                    0.543990\n",
       "7               AdaBoost      0.503636                    0.494596\n",
       "8    K Nearest Neighbour      0.528030                    0.463283\n",
       "9    Logistic Regression      0.393384                    0.420556\n",
       "10  Gaussian Naive Bayes      0.359596                    0.407222"
      ]
     },
     "execution_count": 16,
     "metadata": {},
     "output_type": "execute_result"
    }
   ],
   "source": [
    "ran = RandomForestClassifier(random_state=1)\n",
    "knn = KNeighborsClassifier()\n",
    "log = LogisticRegression()\n",
    "xgb = XGBClassifier()\n",
    "gbc = GradientBoostingClassifier()\n",
    "svc = SVC(random_state=1, probability=True)\n",
    "ext = ExtraTreesClassifier()\n",
    "ada = AdaBoostClassifier()\n",
    "gnb = GaussianNB()\n",
    "gpc = GaussianProcessClassifier()\n",
    "bag = BaggingClassifier()\n",
    "\n",
    "\n",
    "models = [ran, knn, log, xgb, gbc, svc, ext, ada, gnb, gpc, bag]         \n",
    "scores_v2 = []\n",
    "\n",
    "\n",
    "# Sequentially fit and cross validate all models\n",
    "for mod in models:\n",
    "    mod.fit(X_train_scaler, y_train)\n",
    "    KPP = cross_val_score(mod, X_train_scaler, y_train, scoring = scorer, cv = 10)\n",
    "    scores_v2.append(KPP.mean())\n",
    "    \n",
    "results = pd.DataFrame({\n",
    "    'Model': ['Random Forest', 'K Nearest Neighbour', 'Logistic Regression', 'XGBoost', 'Gradient Boosting', 'SVC', 'Extra Trees', 'AdaBoost', 'Gaussian Naive Bayes', 'Gaussian Process', 'Bagging Classifier'],\n",
    "    'Original KPP': scores,\n",
    "    'KPP with feature selection': scores_v2})\n",
    "\n",
    "result_df = results.sort_values(by='KPP with feature selection', ascending=False).reset_index(drop=True)\n",
    "result_df.head(11)\n"
   ]
  },
  {
   "cell_type": "markdown",
   "metadata": {},
   "source": [
    "En general mejoraron los modelos en entrenamiento con la selección de variables, seguiremos con esta selección pero ahora se trabajará con los hiperparametros "
   ]
  },
  {
   "cell_type": "markdown",
   "metadata": {},
   "source": [
    "### Round 3: Model (hyper-parameter) tuning"
   ]
  },
  {
   "cell_type": "markdown",
   "metadata": {},
   "source": [
    "### XGBoost"
   ]
  },
  {
   "cell_type": "code",
   "execution_count": 17,
   "metadata": {},
   "outputs": [
    {
     "name": "stdout",
     "output_type": "stream",
     "text": [
      "Fitting 5 folds for each of 72 candidates, totalling 360 fits\n"
     ]
    },
    {
     "name": "stderr",
     "output_type": "stream",
     "text": [
      "[Parallel(n_jobs=1)]: Using backend SequentialBackend with 1 concurrent workers.\n",
      "[Parallel(n_jobs=1)]: Done 360 out of 360 | elapsed:  1.6min finished\n"
     ]
    },
    {
     "name": "stdout",
     "output_type": "stream",
     "text": [
      "0.797752808988764\n",
      "XGBClassifier(base_score=0.5, booster='gbtree', colsample_bylevel=1,\n",
      "       colsample_bynode=1, colsample_bytree=1, gamma=0, learning_rate=0.05,\n",
      "       max_delta_step=0, max_depth=3, min_child_weight=1, missing=None,\n",
      "       n_estimators=1000, n_jobs=1, nthread=None,\n",
      "       objective='binary:logistic', random_state=0, reg_alpha=0,\n",
      "       reg_lambda=1, scale_pos_weight=1, seed=None, silent=None,\n",
      "       subsample=1, verbosity=1)\n"
     ]
    }
   ],
   "source": [
    "# Parameter's to search\n",
    "learning_rate = [0.0001, 0.0005, 0.001, 0.005, 0.01, 0.05, 0.1, 0.2]\n",
    "n_estimators = [10, 25, 50, 75, 100, 250, 500, 750, 1000]\n",
    "\n",
    "# Setting up parameter grid\n",
    "hyperparams = {'learning_rate': learning_rate, 'n_estimators': n_estimators}\n",
    "\n",
    "# Run GridSearch CV\n",
    "gd=GridSearchCV(estimator = XGBClassifier(), param_grid = hyperparams, \n",
    "                verbose=True, cv=5, scoring = scorer)\n",
    "\n",
    "# Fitting model and return results\n",
    "gd.fit(X_train_scaler, y_train)\n",
    "print(gd.best_score_)\n",
    "print(gd.best_estimator_)"
   ]
  },
  {
   "cell_type": "markdown",
   "metadata": {},
   "source": [
    "#### Paso 2"
   ]
  },
  {
   "cell_type": "code",
   "execution_count": 18,
   "metadata": {},
   "outputs": [
    {
     "name": "stdout",
     "output_type": "stream",
     "text": [
      "Fitting 5 folds for each of 48 candidates, totalling 240 fits\n"
     ]
    },
    {
     "name": "stderr",
     "output_type": "stream",
     "text": [
      "[Parallel(n_jobs=1)]: Using backend SequentialBackend with 1 concurrent workers.\n",
      "[Parallel(n_jobs=1)]: Done 240 out of 240 | elapsed:  4.7min finished\n"
     ]
    },
    {
     "name": "stdout",
     "output_type": "stream",
     "text": [
      "0.8089887640449438\n",
      "XGBClassifier(base_score=0.5, booster='gbtree', colsample_bylevel=1,\n",
      "       colsample_bynode=1, colsample_bytree=1, gamma=0, learning_rate=0.05,\n",
      "       max_delta_step=0, max_depth=7, min_child_weight=1, missing=None,\n",
      "       n_estimators=1000, n_jobs=1, nthread=None,\n",
      "       objective='binary:logistic', random_state=0, reg_alpha=0,\n",
      "       reg_lambda=1, scale_pos_weight=1, seed=None, silent=None,\n",
      "       subsample=1, verbosity=1)\n"
     ]
    }
   ],
   "source": [
    "max_depth = [3, 4, 5, 6, 7, 8, 9, 10]\n",
    "min_child_weight = [1, 2, 3, 4, 5, 6]\n",
    "\n",
    "hyperparams = {'max_depth': max_depth, 'min_child_weight': min_child_weight}\n",
    "\n",
    "gd=GridSearchCV(estimator = XGBClassifier(learning_rate=0.05, n_estimators=1000), param_grid = hyperparams, \n",
    "                verbose=True, cv=5, scoring =scorer)\n",
    "\n",
    "gd.fit(X_train_scaler, y_train)\n",
    "print(gd.best_score_)\n",
    "print(gd.best_estimator_)"
   ]
  },
  {
   "cell_type": "markdown",
   "metadata": {},
   "source": [
    "#### Paso 3"
   ]
  },
  {
   "cell_type": "code",
   "execution_count": 19,
   "metadata": {},
   "outputs": [
    {
     "name": "stdout",
     "output_type": "stream",
     "text": [
      "Fitting 5 folds for each of 5 candidates, totalling 25 fits\n"
     ]
    },
    {
     "name": "stderr",
     "output_type": "stream",
     "text": [
      "[Parallel(n_jobs=1)]: Using backend SequentialBackend with 1 concurrent workers.\n",
      "[Parallel(n_jobs=1)]: Done  25 out of  25 | elapsed:   32.1s finished\n"
     ]
    },
    {
     "name": "stdout",
     "output_type": "stream",
     "text": [
      "0.8089887640449438\n",
      "XGBClassifier(base_score=0.5, booster='gbtree', colsample_bylevel=1,\n",
      "       colsample_bynode=1, colsample_bytree=1, gamma=0.0,\n",
      "       learning_rate=0.05, max_delta_step=0, max_depth=7,\n",
      "       min_child_weight=1, missing=None, n_estimators=1000, n_jobs=1,\n",
      "       nthread=None, objective='binary:logistic', random_state=0,\n",
      "       reg_alpha=0, reg_lambda=1, scale_pos_weight=1, seed=None,\n",
      "       silent=None, subsample=1, verbosity=1)\n"
     ]
    }
   ],
   "source": [
    "gamma = [i*0.1 for i in range(0,5)]\n",
    "\n",
    "hyperparams = {'gamma': gamma}\n",
    "\n",
    "gd=GridSearchCV(estimator = XGBClassifier(learning_rate=0.05, n_estimators=1000, max_depth=7, \n",
    "                                          min_child_weight=1), param_grid = hyperparams, \n",
    "                verbose=True, cv=5, scoring = scorer)\n",
    "\n",
    "gd.fit(X_train_scaler, y_train)\n",
    "print(gd.best_score_)\n",
    "print(gd.best_estimator_)"
   ]
  },
  {
   "cell_type": "markdown",
   "metadata": {},
   "source": [
    "#### Paso 4"
   ]
  },
  {
   "cell_type": "code",
   "execution_count": 20,
   "metadata": {},
   "outputs": [
    {
     "name": "stdout",
     "output_type": "stream",
     "text": [
      "Fitting 5 folds for each of 81 candidates, totalling 405 fits\n"
     ]
    },
    {
     "name": "stderr",
     "output_type": "stream",
     "text": [
      "[Parallel(n_jobs=1)]: Using backend SequentialBackend with 1 concurrent workers.\n",
      "[Parallel(n_jobs=1)]: Done 405 out of 405 | elapsed:  8.3min finished\n"
     ]
    },
    {
     "name": "stdout",
     "output_type": "stream",
     "text": [
      "0.8089887640449438\n",
      "XGBClassifier(base_score=0.5, booster='gbtree', colsample_bylevel=1,\n",
      "       colsample_bynode=1, colsample_bytree=0.7, gamma=0,\n",
      "       learning_rate=0.05, max_delta_step=0, max_depth=7,\n",
      "       min_child_weight=1, missing=None, n_estimators=1000, n_jobs=1,\n",
      "       nthread=None, objective='binary:logistic', random_state=0,\n",
      "       reg_alpha=0, reg_lambda=1, scale_pos_weight=1, seed=None,\n",
      "       silent=None, subsample=1, verbosity=1)\n"
     ]
    }
   ],
   "source": [
    "subsample = [0.6, 0.65, 0.7, 0.75, 0.8, 0.85, 0.9, 0.95, 1]\n",
    "colsample_bytree = [0.6, 0.65, 0.7, 0.75, 0.8, 0.85, 0.9, 0.95, 1]\n",
    "    \n",
    "hyperparams = {'subsample': subsample, 'colsample_bytree': colsample_bytree}\n",
    "\n",
    "gd=GridSearchCV(estimator = XGBClassifier(learning_rate=0.05, n_estimators=1000, max_depth=7, \n",
    "                                          min_child_weight=1, gamma=0), param_grid = hyperparams, \n",
    "                verbose=True, cv=5, scoring = scorer)\n",
    "\n",
    "gd.fit(X_train_scaler, y_train)\n",
    "print(gd.best_score_)\n",
    "print(gd.best_estimator_)"
   ]
  },
  {
   "cell_type": "markdown",
   "metadata": {},
   "source": [
    "#### Paso 5"
   ]
  },
  {
   "cell_type": "markdown",
   "metadata": {},
   "source": [
    "### Gradient Boosting"
   ]
  },
  {
   "cell_type": "code",
   "execution_count": 21,
   "metadata": {},
   "outputs": [
    {
     "name": "stdout",
     "output_type": "stream",
     "text": [
      "Fitting 5 folds for each of 56 candidates, totalling 280 fits\n"
     ]
    },
    {
     "name": "stderr",
     "output_type": "stream",
     "text": [
      "[Parallel(n_jobs=1)]: Using backend SequentialBackend with 1 concurrent workers.\n"
     ]
    },
    {
     "name": "stdout",
     "output_type": "stream",
     "text": [
      "0.8044943820224719\n",
      "GradientBoostingClassifier(criterion='friedman_mse', init=None,\n",
      "              learning_rate=0.1, loss='deviance', max_depth=3,\n",
      "              max_features=None, max_leaf_nodes=None,\n",
      "              min_impurity_decrease=0.0, min_impurity_split=None,\n",
      "              min_samples_leaf=1, min_samples_split=2,\n",
      "              min_weight_fraction_leaf=0.0, n_estimators=250,\n",
      "              n_iter_no_change=None, presort='auto', random_state=None,\n",
      "              subsample=1.0, tol=0.0001, validation_fraction=0.1,\n",
      "              verbose=0, warm_start=False)\n"
     ]
    },
    {
     "name": "stderr",
     "output_type": "stream",
     "text": [
      "[Parallel(n_jobs=1)]: Done 280 out of 280 | elapsed:  2.5min finished\n"
     ]
    }
   ],
   "source": [
    "# Parameter's to search\n",
    "learning_rate = [0.0001, 0.0005, 0.001, 0.005, 0.01, 0.05, 0.1, 0.2]\n",
    "n_estimators = [100, 250, 500, 750, 1000, 1250, 1500]\n",
    "\n",
    "# Setting up parameter grid\n",
    "hyperparams = {'learning_rate': learning_rate, 'n_estimators': n_estimators}\n",
    "\n",
    "# Run GridSearch CV\n",
    "gd_gbc=GridSearchCV(estimator = GradientBoostingClassifier(), param_grid = hyperparams, \n",
    "                verbose=True, cv=5, scoring = scorer)\n",
    "\n",
    "# Fitting model and return results\n",
    "gd_gbc.fit(X_train_scaler, y_train)\n",
    "print(gd_gbc.best_score_)\n",
    "print(gd_gbc.best_estimator_)"
   ]
  },
  {
   "cell_type": "markdown",
   "metadata": {},
   "source": [
    "### AdaBoost\t"
   ]
  },
  {
   "cell_type": "code",
   "execution_count": 22,
   "metadata": {},
   "outputs": [
    {
     "name": "stdout",
     "output_type": "stream",
     "text": [
      "Fitting 5 folds for each of 56 candidates, totalling 280 fits\n"
     ]
    },
    {
     "name": "stderr",
     "output_type": "stream",
     "text": [
      "[Parallel(n_jobs=1)]: Using backend SequentialBackend with 1 concurrent workers.\n",
      "[Parallel(n_jobs=1)]: Done 280 out of 280 | elapsed:   31.1s finished\n"
     ]
    },
    {
     "name": "stdout",
     "output_type": "stream",
     "text": [
      "0.5550561797752809\n",
      "AdaBoostClassifier(algorithm='SAMME.R', base_estimator=None,\n",
      "          learning_rate=1.5, n_estimators=200, random_state=None)\n"
     ]
    }
   ],
   "source": [
    "n_estimators = [10, 25, 50, 75, 100, 125, 150, 200]\n",
    "learning_rate = [0.001, 0.01, 0.1, 0.5, 1, 1.5, 2]\n",
    "\n",
    "# Setting up parameter grid\n",
    "hyperparams = {'n_estimators': n_estimators, 'learning_rate': learning_rate}\n",
    "\n",
    "# Run GridSearch CV\n",
    "gd_abc=GridSearchCV(estimator = AdaBoostClassifier(), param_grid = hyperparams, \n",
    "                verbose=True, cv=5, scoring = scorer)\n",
    "\n",
    "# Fitting model and return results\n",
    "gd_abc.fit(X_train_scaler, y_train)\n",
    "print(gd_abc.best_score_)\n",
    "print(gd_abc.best_estimator_)"
   ]
  },
  {
   "cell_type": "markdown",
   "metadata": {},
   "source": [
    "### Logistic Regression"
   ]
  },
  {
   "cell_type": "code",
   "execution_count": 23,
   "metadata": {},
   "outputs": [
    {
     "name": "stdout",
     "output_type": "stream",
     "text": [
      "Fitting 5 folds for each of 20 candidates, totalling 100 fits\n"
     ]
    },
    {
     "name": "stderr",
     "output_type": "stream",
     "text": [
      "[Parallel(n_jobs=1)]: Using backend SequentialBackend with 1 concurrent workers.\n"
     ]
    },
    {
     "name": "stdout",
     "output_type": "stream",
     "text": [
      "0.43595505617977526\n",
      "LogisticRegression(C=1.0, class_weight=None, dual=False, fit_intercept=True,\n",
      "          intercept_scaling=1, max_iter=100, multi_class='warn',\n",
      "          n_jobs=None, penalty='l2', random_state=None, solver='warn',\n",
      "          tol=0.0001, verbose=0, warm_start=False)\n"
     ]
    },
    {
     "name": "stderr",
     "output_type": "stream",
     "text": [
      "[Parallel(n_jobs=1)]: Done 100 out of 100 | elapsed:    0.3s finished\n"
     ]
    }
   ],
   "source": [
    "# Parameter's to search\n",
    "penalty = ['l1', 'l2']\n",
    "C = np.logspace(0, 4, 10)\n",
    "\n",
    "# Setting up parameter grid\n",
    "hyperparams = {'penalty': penalty, 'C': C}\n",
    "\n",
    "# Run GridSearch CV\n",
    "gd_log=GridSearchCV(estimator = LogisticRegression(), param_grid = hyperparams, \n",
    "                verbose=True, cv=5, scoring = scorer)\n",
    "\n",
    "# Fitting model and return results\n",
    "gd_log.fit(X_train_scaler, y_train)\n",
    "print(gd_log.best_score_)\n",
    "print(gd_log.best_estimator_)"
   ]
  },
  {
   "cell_type": "markdown",
   "metadata": {},
   "source": [
    "### SVC"
   ]
  },
  {
   "cell_type": "code",
   "execution_count": 24,
   "metadata": {},
   "outputs": [
    {
     "name": "stderr",
     "output_type": "stream",
     "text": [
      "[Parallel(n_jobs=1)]: Using backend SequentialBackend with 1 concurrent workers.\n"
     ]
    },
    {
     "name": "stdout",
     "output_type": "stream",
     "text": [
      "Fitting 5 folds for each of 40 candidates, totalling 200 fits\n",
      "0.8426966292134831\n",
      "SVC(C=1, cache_size=200, class_weight=None, coef0=0.0,\n",
      "  decision_function_shape='ovr', degree=3, gamma=1, kernel='rbf',\n",
      "  max_iter=-1, probability=True, random_state=None, shrinking=True,\n",
      "  tol=0.001, verbose=False)\n"
     ]
    },
    {
     "name": "stderr",
     "output_type": "stream",
     "text": [
      "[Parallel(n_jobs=1)]: Done 200 out of 200 | elapsed:   16.7s finished\n"
     ]
    }
   ],
   "source": [
    "# Parameter's to search\n",
    "Cs = [0.001, 0.01, 0.1, 1, 5, 10, 15, 20, 50, 100]\n",
    "gammas = [0.001, 0.01, 0.1, 1]\n",
    "\n",
    "# Setting up parameter grid\n",
    "hyperparams = {'C': Cs, 'gamma' : gammas}\n",
    "\n",
    "# Run GridSearch CV\n",
    "gd_svc=GridSearchCV(estimator = SVC(probability=True), param_grid = hyperparams, \n",
    "                verbose=True, cv=5, scoring = scorer)\n",
    "\n",
    "# Fitting model and return results\n",
    "gd_svc.fit(X_train_scaler, y_train)\n",
    "print(gd_svc.best_score_)\n",
    "print(gd_svc.best_estimator_)"
   ]
  },
  {
   "cell_type": "markdown",
   "metadata": {},
   "source": [
    "### Extra Trees"
   ]
  },
  {
   "cell_type": "code",
   "execution_count": 25,
   "metadata": {},
   "outputs": [
    {
     "name": "stderr",
     "output_type": "stream",
     "text": [
      "[Parallel(n_jobs=1)]: Using backend SequentialBackend with 1 concurrent workers.\n"
     ]
    },
    {
     "name": "stdout",
     "output_type": "stream",
     "text": [
      "Fitting 5 folds for each of 1000 candidates, totalling 5000 fits\n",
      "0.7910112359550562\n",
      "ExtraTreesClassifier(bootstrap=False, class_weight=None, criterion='gini',\n",
      "           max_depth=None, max_features=7, max_leaf_nodes=None,\n",
      "           min_impurity_decrease=0.0, min_impurity_split=None,\n",
      "           min_samples_leaf=2, min_samples_split=4,\n",
      "           min_weight_fraction_leaf=0.0, n_estimators=75, n_jobs=None,\n",
      "           oob_score=False, random_state=None, verbose=0, warm_start=False)\n"
     ]
    },
    {
     "name": "stderr",
     "output_type": "stream",
     "text": [
      "[Parallel(n_jobs=1)]: Done 5000 out of 5000 | elapsed:  3.7min finished\n"
     ]
    }
   ],
   "source": [
    "# Parameter's to search\n",
    "n_estimators = [10, 25, 50, 75, 100]\n",
    "max_depth = [3, None]\n",
    "max_features = [1, 3, 5, 7]\n",
    "min_samples_split = [2, 4, 6, 8, 10]\n",
    "min_samples_leaf = [2, 4, 6, 8, 10]\n",
    "\n",
    "# Setting up parameter grid\n",
    "hyperparams = {'n_estimators': n_estimators, 'max_depth': max_depth, 'max_features': max_features,\n",
    "               'min_samples_split': min_samples_split, 'min_samples_leaf': min_samples_leaf}\n",
    "\n",
    "# Run GridSearch CV\n",
    "gd_etc=GridSearchCV(estimator = ExtraTreesClassifier(), param_grid = hyperparams, \n",
    "                verbose=True, cv=5, scoring = scorer)\n",
    "\n",
    "# Fitting model and return results\n",
    "gd_etc.fit(X_train_scaler, y_train)\n",
    "print(gd_etc.best_score_)\n",
    "print(gd_etc.best_estimator_)"
   ]
  },
  {
   "cell_type": "markdown",
   "metadata": {},
   "source": [
    "### Bagging Classifier"
   ]
  },
  {
   "cell_type": "code",
   "execution_count": 26,
   "metadata": {},
   "outputs": [
    {
     "name": "stderr",
     "output_type": "stream",
     "text": [
      "[Parallel(n_jobs=1)]: Using backend SequentialBackend with 1 concurrent workers.\n"
     ]
    },
    {
     "name": "stdout",
     "output_type": "stream",
     "text": [
      "Fitting 5 folds for each of 352 candidates, totalling 1760 fits\n",
      "0.6089887640449438\n",
      "BaggingClassifier(base_estimator=None, bootstrap=True,\n",
      "         bootstrap_features=False, max_features=5, max_samples=50,\n",
      "         n_estimators=150, n_jobs=None, oob_score=False, random_state=None,\n",
      "         verbose=0, warm_start=False)\n"
     ]
    },
    {
     "name": "stderr",
     "output_type": "stream",
     "text": [
      "[Parallel(n_jobs=1)]: Done 1760 out of 1760 | elapsed:  1.3min finished\n"
     ]
    }
   ],
   "source": [
    "# Parameter's to search\n",
    "n_estimators = [10, 15, 20, 25, 50, 75, 100, 150]\n",
    "max_samples = [1, 2, 3, 5, 7, 10, 15, 20, 25, 30, 50]\n",
    "max_features = [1, 3, 5, 7]\n",
    "\n",
    "# Setting up parameter grid\n",
    "hyperparams = {'n_estimators': n_estimators, 'max_samples': max_samples, 'max_features': max_features}\n",
    "\n",
    "# Run GridSearch CV\n",
    "gd_bac=GridSearchCV(estimator = BaggingClassifier(), param_grid = hyperparams, \n",
    "                verbose=True, cv=5, scoring = scorer)\n",
    "\n",
    "# Fitting model and return results\n",
    "gd_bac.fit(X_train_scaler, y_train)\n",
    "print(gd_bac.best_score_)\n",
    "print(gd_bac.best_estimator_)"
   ]
  },
  {
   "cell_type": "markdown",
   "metadata": {},
   "source": [
    "### Gaussian Process"
   ]
  },
  {
   "cell_type": "code",
   "execution_count": 27,
   "metadata": {},
   "outputs": [
    {
     "name": "stderr",
     "output_type": "stream",
     "text": [
      "[Parallel(n_jobs=1)]: Using backend SequentialBackend with 1 concurrent workers.\n"
     ]
    },
    {
     "name": "stdout",
     "output_type": "stream",
     "text": [
      "Fitting 5 folds for each of 64 candidates, totalling 320 fits\n",
      "0.7213483146067415\n",
      "GaussianProcessClassifier(copy_X_train=True, kernel=None, max_iter_predict=2,\n",
      "             multi_class='one_vs_rest', n_jobs=None,\n",
      "             n_restarts_optimizer=0, optimizer='fmin_l_bfgs_b',\n",
      "             random_state=None, warm_start=True)\n"
     ]
    },
    {
     "name": "stderr",
     "output_type": "stream",
     "text": [
      "[Parallel(n_jobs=1)]: Done 320 out of 320 | elapsed:   59.4s finished\n"
     ]
    }
   ],
   "source": [
    "# Parameter's to search\n",
    "n_restarts_optimizer = [0, 1, 2, 3]\n",
    "max_iter_predict = [1, 2, 5, 10, 20, 35, 50, 100]\n",
    "warm_start = [True, False]\n",
    "\n",
    "# Setting up parameter grid\n",
    "hyperparams = {'n_restarts_optimizer': n_restarts_optimizer, 'max_iter_predict': max_iter_predict, 'warm_start': warm_start}\n",
    "\n",
    "# Run GridSearch CV\n",
    "gd_gpc=GridSearchCV(estimator = GaussianProcessClassifier(), param_grid = hyperparams, \n",
    "                verbose=True, cv=5, scoring = scorer)\n",
    "\n",
    "# Fitting model and return results\n",
    "gd_gpc.fit(X_train_scaler, y_train)\n",
    "print(gd_gpc.best_score_)\n",
    "print(gd_gpc.best_estimator_)"
   ]
  },
  {
   "cell_type": "markdown",
   "metadata": {},
   "source": [
    "### K Nearest Neighbour"
   ]
  },
  {
   "cell_type": "code",
   "execution_count": 28,
   "metadata": {},
   "outputs": [
    {
     "name": "stderr",
     "output_type": "stream",
     "text": [
      "[Parallel(n_jobs=1)]: Using backend SequentialBackend with 1 concurrent workers.\n"
     ]
    },
    {
     "name": "stdout",
     "output_type": "stream",
     "text": [
      "Fitting 5 folds for each of 300 candidates, totalling 1500 fits\n",
      "0.7460674157303371\n",
      "KNeighborsClassifier(algorithm='auto', leaf_size=1, metric='minkowski',\n",
      "           metric_params=None, n_jobs=None, n_neighbors=1, p=2,\n",
      "           weights='uniform')\n"
     ]
    },
    {
     "name": "stderr",
     "output_type": "stream",
     "text": [
      "[Parallel(n_jobs=1)]: Done 1500 out of 1500 | elapsed:  1.4min finished\n"
     ]
    }
   ],
   "source": [
    "# Parameter's to search\n",
    "n_neighbors = [1, 2, 3, 4, 5, 6, 7, 8, 9, 10, 12, 14, 16, 18, 20]\n",
    "algorithm = ['auto']\n",
    "weights = ['uniform', 'distance']\n",
    "leaf_size = [1, 2, 3, 4, 5, 10, 15, 20, 25, 30]\n",
    "\n",
    "# Setting up parameter grid\n",
    "hyperparams = {'algorithm': algorithm, 'weights': weights, 'leaf_size': leaf_size, \n",
    "               'n_neighbors': n_neighbors}\n",
    "\n",
    "# Run GridSearch CV\n",
    "gd_knn=GridSearchCV(estimator = KNeighborsClassifier(), param_grid = hyperparams, \n",
    "                verbose=True, cv=5, scoring = scorer)\n",
    "\n",
    "# Fitting model and return results\n",
    "gd_knn.fit(X_train_scaler, y_train)\n",
    "print(gd_knn.best_score_)\n",
    "print(gd_knn.best_estimator_)"
   ]
  },
  {
   "cell_type": "markdown",
   "metadata": {},
   "source": [
    "### Random Forest"
   ]
  },
  {
   "cell_type": "code",
   "execution_count": 29,
   "metadata": {},
   "outputs": [
    {
     "name": "stderr",
     "output_type": "stream",
     "text": [
      "[Parallel(n_jobs=1)]: Using backend SequentialBackend with 1 concurrent workers.\n"
     ]
    },
    {
     "name": "stdout",
     "output_type": "stream",
     "text": [
      "Fitting 5 folds for each of 1000 candidates, totalling 5000 fits\n",
      "0.7820224719101123\n",
      "RandomForestClassifier(bootstrap=True, class_weight=None, criterion='gini',\n",
      "            max_depth=None, max_features=3, max_leaf_nodes=None,\n",
      "            min_impurity_decrease=0.0, min_impurity_split=None,\n",
      "            min_samples_leaf=2, min_samples_split=2,\n",
      "            min_weight_fraction_leaf=0.0, n_estimators=50, n_jobs=None,\n",
      "            oob_score=False, random_state=None, verbose=0,\n",
      "            warm_start=False)\n"
     ]
    },
    {
     "name": "stderr",
     "output_type": "stream",
     "text": [
      "[Parallel(n_jobs=1)]: Done 5000 out of 5000 | elapsed:  4.3min finished\n"
     ]
    }
   ],
   "source": [
    "# Parameter's to search\n",
    "n_estimators = [10, 25, 50, 75, 100]\n",
    "max_depth = [3, None]\n",
    "max_features = [1, 3, 5, 7]\n",
    "min_samples_split = [2, 4, 6, 8, 10]\n",
    "min_samples_leaf = [2, 4, 6, 8, 10]\n",
    "\n",
    "# Setting up parameter grid\n",
    "hyperparams = {'n_estimators': n_estimators, 'max_depth': max_depth, 'max_features': max_features,\n",
    "               'min_samples_split': min_samples_split, 'min_samples_leaf': min_samples_leaf}\n",
    "\n",
    "# Run GridSearch CV\n",
    "gd_rf=GridSearchCV(estimator = RandomForestClassifier(), param_grid = hyperparams, \n",
    "                verbose=True, cv=5, scoring = scorer)\n",
    "\n",
    "# Fitting model and return results\n",
    "gd_rf.fit(X_train_scaler, y_train)\n",
    "print(gd_rf.best_score_)\n",
    "print(gd_rf.best_estimator_)"
   ]
  },
  {
   "cell_type": "markdown",
   "metadata": {},
   "source": [
    "### Re Entrenamiento con hiperparametros "
   ]
  },
  {
   "cell_type": "code",
   "execution_count": 38,
   "metadata": {},
   "outputs": [
    {
     "data": {
      "text/html": [
       "<div>\n",
       "<style scoped>\n",
       "    .dataframe tbody tr th:only-of-type {\n",
       "        vertical-align: middle;\n",
       "    }\n",
       "\n",
       "    .dataframe tbody tr th {\n",
       "        vertical-align: top;\n",
       "    }\n",
       "\n",
       "    .dataframe thead th {\n",
       "        text-align: right;\n",
       "    }\n",
       "</style>\n",
       "<table border=\"1\" class=\"dataframe\">\n",
       "  <thead>\n",
       "    <tr style=\"text-align: right;\">\n",
       "      <th></th>\n",
       "      <th>Model</th>\n",
       "      <th>Original KPP</th>\n",
       "      <th>KPP with feature selection</th>\n",
       "      <th>KPP with tuned parameters</th>\n",
       "    </tr>\n",
       "  </thead>\n",
       "  <tbody>\n",
       "    <tr>\n",
       "      <th>0</th>\n",
       "      <td>SVC</td>\n",
       "      <td>0.620354</td>\n",
       "      <td>0.543990</td>\n",
       "      <td>0.867374</td>\n",
       "    </tr>\n",
       "    <tr>\n",
       "      <th>1</th>\n",
       "      <td>Gradient Boosting</td>\n",
       "      <td>0.710556</td>\n",
       "      <td>0.726566</td>\n",
       "      <td>0.811414</td>\n",
       "    </tr>\n",
       "    <tr>\n",
       "      <th>2</th>\n",
       "      <td>XGBoost</td>\n",
       "      <td>0.636010</td>\n",
       "      <td>0.683333</td>\n",
       "      <td>0.798030</td>\n",
       "    </tr>\n",
       "    <tr>\n",
       "      <th>3</th>\n",
       "      <td>Extra Trees</td>\n",
       "      <td>0.822475</td>\n",
       "      <td>0.854192</td>\n",
       "      <td>0.788939</td>\n",
       "    </tr>\n",
       "    <tr>\n",
       "      <th>4</th>\n",
       "      <td>Random Forest</td>\n",
       "      <td>0.775556</td>\n",
       "      <td>0.797727</td>\n",
       "      <td>0.764343</td>\n",
       "    </tr>\n",
       "    <tr>\n",
       "      <th>5</th>\n",
       "      <td>K Nearest Neighbour</td>\n",
       "      <td>0.528030</td>\n",
       "      <td>0.463283</td>\n",
       "      <td>0.750556</td>\n",
       "    </tr>\n",
       "    <tr>\n",
       "      <th>6</th>\n",
       "      <td>Gaussian Process</td>\n",
       "      <td>0.732727</td>\n",
       "      <td>0.735152</td>\n",
       "      <td>0.735152</td>\n",
       "    </tr>\n",
       "    <tr>\n",
       "      <th>7</th>\n",
       "      <td>AdaBoost</td>\n",
       "      <td>0.503636</td>\n",
       "      <td>0.494596</td>\n",
       "      <td>0.575758</td>\n",
       "    </tr>\n",
       "    <tr>\n",
       "      <th>8</th>\n",
       "      <td>Bagging Classifier</td>\n",
       "      <td>0.752929</td>\n",
       "      <td>0.786515</td>\n",
       "      <td>0.561970</td>\n",
       "    </tr>\n",
       "    <tr>\n",
       "      <th>9</th>\n",
       "      <td>Logistic Regression</td>\n",
       "      <td>0.393384</td>\n",
       "      <td>0.420556</td>\n",
       "      <td>0.420556</td>\n",
       "    </tr>\n",
       "    <tr>\n",
       "      <th>10</th>\n",
       "      <td>Gaussian Naive Bayes</td>\n",
       "      <td>0.359596</td>\n",
       "      <td>0.407222</td>\n",
       "      <td>0.407222</td>\n",
       "    </tr>\n",
       "  </tbody>\n",
       "</table>\n",
       "</div>"
      ],
      "text/plain": [
       "                   Model  Original KPP  KPP with feature selection  \\\n",
       "0                    SVC      0.620354                    0.543990   \n",
       "1      Gradient Boosting      0.710556                    0.726566   \n",
       "2                XGBoost      0.636010                    0.683333   \n",
       "3            Extra Trees      0.822475                    0.854192   \n",
       "4          Random Forest      0.775556                    0.797727   \n",
       "5    K Nearest Neighbour      0.528030                    0.463283   \n",
       "6       Gaussian Process      0.732727                    0.735152   \n",
       "7               AdaBoost      0.503636                    0.494596   \n",
       "8     Bagging Classifier      0.752929                    0.786515   \n",
       "9    Logistic Regression      0.393384                    0.420556   \n",
       "10  Gaussian Naive Bayes      0.359596                    0.407222   \n",
       "\n",
       "    KPP with tuned parameters  \n",
       "0                    0.867374  \n",
       "1                    0.811414  \n",
       "2                    0.798030  \n",
       "3                    0.788939  \n",
       "4                    0.764343  \n",
       "5                    0.750556  \n",
       "6                    0.735152  \n",
       "7                    0.575758  \n",
       "8                    0.561970  \n",
       "9                    0.420556  \n",
       "10                   0.407222  "
      ]
     },
     "execution_count": 38,
     "metadata": {},
     "output_type": "execute_result"
    }
   ],
   "source": [
    "xgb = XGBClassifier(learning_rate=0.05, n_estimators=1000, max_depth=7, \n",
    "                                          min_child_weight=1, gamma=0, subsample=1, colsample_bylevel=1)\n",
    "\n",
    "ran = RandomForestClassifier(bootstrap=True, class_weight=None, criterion='gini',\n",
    "            max_depth=None, max_features=3, max_leaf_nodes=None,\n",
    "            min_impurity_decrease=0.0, min_impurity_split=None,\n",
    "            min_samples_leaf=2, min_samples_split=2,\n",
    "            min_weight_fraction_leaf=0.0, n_estimators=50, n_jobs=None,\n",
    "            oob_score=False, random_state=None, verbose=0,\n",
    "            warm_start=False)\n",
    "\n",
    "knn = KNeighborsClassifier(algorithm='auto', leaf_size=1, metric='minkowski',\n",
    "           metric_params=None, n_jobs=None, n_neighbors=1, p=2,\n",
    "           weights='uniform')\n",
    "\n",
    "gpc = GaussianProcessClassifier(copy_X_train=True, kernel=None, max_iter_predict=2,\n",
    "             multi_class='one_vs_rest', n_jobs=None,\n",
    "             n_restarts_optimizer=0, optimizer='fmin_l_bfgs_b',\n",
    "             random_state=None, warm_start=True)\n",
    "\n",
    "bag = BaggingClassifier(base_estimator=None, bootstrap=True,\n",
    "         bootstrap_features=False, max_features=5, max_samples=50,\n",
    "         n_estimators=150, n_jobs=None, oob_score=False, random_state=None,\n",
    "         verbose=0, warm_start=False)\n",
    "\n",
    "ext = ExtraTreesClassifier(bootstrap=False, class_weight=None, criterion='gini',\n",
    "           max_depth=None, max_features=7, max_leaf_nodes=None,\n",
    "           min_impurity_decrease=0.0, min_impurity_split=None,\n",
    "           min_samples_leaf=2, min_samples_split=4,\n",
    "           min_weight_fraction_leaf=0.0, n_estimators=75, n_jobs=None,\n",
    "           oob_score=False, random_state=None, verbose=0, warm_start=False)\n",
    "\n",
    "svc = SVC(C=1, cache_size=200, class_weight=None, coef0=0.0,\n",
    "  decision_function_shape='ovr', degree=3, gamma=1, kernel='rbf',\n",
    "  max_iter=-1, probability=True, random_state=None, shrinking=True,\n",
    "  tol=0.001, verbose=False)\n",
    "\n",
    "log = LogisticRegression(C=1.0, class_weight=None, dual=False, fit_intercept=True,\n",
    "          intercept_scaling=1, max_iter=100, multi_class='warn',\n",
    "          n_jobs=None, penalty='l2', random_state=None, solver='warn',\n",
    "          tol=0.0001, verbose=0, warm_start=False)\n",
    "\n",
    "ada = AdaBoostClassifier(algorithm='SAMME.R', base_estimator=None,\n",
    "          learning_rate=1.5, n_estimators=200, random_state=None)\n",
    "\n",
    "gbc = GradientBoostingClassifier(criterion='friedman_mse', init=None,\n",
    "              learning_rate=0.1, loss='deviance', max_depth=3,\n",
    "              max_features=None, max_leaf_nodes=None,\n",
    "              min_impurity_decrease=0.0, min_impurity_split=None,\n",
    "              min_samples_leaf=1, min_samples_split=2,\n",
    "              min_weight_fraction_leaf=0.0, n_estimators=250,\n",
    "              n_iter_no_change=None, presort='auto', random_state=None,\n",
    "              subsample=1.0, tol=0.0001, validation_fraction=0.1,\n",
    "              verbose=0, warm_start=False)\n",
    "\n",
    "gnb = GaussianNB()\n",
    "\n",
    "\n",
    "models = [ran, knn, log, xgb, gbc, svc, ext, ada, gnb, gpc, bag]         \n",
    "scores_v3 = []\n",
    "\n",
    "\n",
    "for mod in models:\n",
    "    mod.fit(X_train_scaler, y_train)\n",
    "    KPP = cross_val_score(mod, X_train_scaler, y_train, scoring = scorer, cv = 10)\n",
    "    scores_v3.append(KPP.mean())\n",
    "\n",
    "results = pd.DataFrame({\n",
    "    'Model': ['Random Forest', 'K Nearest Neighbour', 'Logistic Regression', 'XGBoost', 'Gradient Boosting', 'SVC', 'Extra Trees', 'AdaBoost', 'Gaussian Naive Bayes', 'Gaussian Process', 'Bagging Classifier'],\n",
    "    'Original KPP': scores,\n",
    "    'KPP with feature selection': scores_v2,\n",
    "    'KPP with tuned parameters': scores_v3})\n",
    "\n",
    "result_df = results.sort_values(by='KPP with tuned parameters', ascending=False).reset_index(drop=True)\n",
    "result_df.head(11)"
   ]
  },
  {
   "cell_type": "markdown",
   "metadata": {},
   "source": [
    "### Inicializando los mejores modelos entre 'Original KPP', 'KPP with feature selection' y KPP with tuned parameters"
   ]
  },
  {
   "cell_type": "code",
   "execution_count": 39,
   "metadata": {},
   "outputs": [],
   "source": [
    "svc = SVC(C=1, cache_size=200, class_weight=None, coef0=0.0,\n",
    "  decision_function_shape='ovr', degree=3, gamma=1, kernel='rbf',\n",
    "  max_iter=-1, probability=True, random_state=None, shrinking=True,\n",
    "  tol=0.001, verbose=False)\n",
    "\n",
    "gbc = GradientBoostingClassifier(criterion='friedman_mse', init=None,\n",
    "              learning_rate=0.1, loss='deviance', max_depth=3,\n",
    "              max_features=None, max_leaf_nodes=None,\n",
    "              min_impurity_decrease=0.0, min_impurity_split=None,\n",
    "              min_samples_leaf=1, min_samples_split=2,\n",
    "              min_weight_fraction_leaf=0.0, n_estimators=250,\n",
    "              n_iter_no_change=None, presort='auto', random_state=None,\n",
    "              subsample=1.0, tol=0.0001, validation_fraction=0.1,\n",
    "              verbose=0, warm_start=False)\n",
    "\n",
    "xgb = XGBClassifier(learning_rate=0.05, n_estimators=1000, max_depth=7, \n",
    "                                          min_child_weight=1, gamma=0, subsample=1, colsample_bylevel=1)\n",
    "\n",
    "ext = ExtraTreesClassifier()\n",
    "\n",
    "ran = RandomForestClassifier(random_state=1)\n",
    "\n",
    "gpc = GaussianProcessClassifier(copy_X_train=True, kernel=None, max_iter_predict=2,\n",
    "             multi_class='one_vs_rest', n_jobs=None,\n",
    "             n_restarts_optimizer=0, optimizer='fmin_l_bfgs_b',\n",
    "             random_state=None, warm_start=True)\n",
    "\n",
    "knn = KNeighborsClassifier(algorithm='auto', leaf_size=1, metric='minkowski',\n",
    "           metric_params=None, n_jobs=None, n_neighbors=1, p=2,\n",
    "           weights='uniform')\n",
    "\n",
    "ada = AdaBoostClassifier(algorithm='SAMME.R', base_estimator=None,\n",
    "          learning_rate=1.5, n_estimators=200, random_state=None)\n",
    "\n",
    "bag = BaggingClassifier()\n",
    "\n",
    "log = LogisticRegression(C=1.0, class_weight=None, dual=False, fit_intercept=True,\n",
    "          intercept_scaling=1, max_iter=100, multi_class='warn',\n",
    "          n_jobs=None, penalty='l2', random_state=None, solver='warn',\n",
    "          tol=0.0001, verbose=0, warm_start=False)\n",
    "\n",
    "gnb = GaussianNB()\n",
    "\n",
    "models = [ran, knn, log, xgb, gbc, svc, ext, ada, gnb, gpc, bag]         \n",
    "scores_v3 = []\n",
    "\n",
    "\n",
    "for mod in models:\n",
    "    mod.fit(X_train_scaler, y_train)\n"
   ]
  },
  {
   "cell_type": "markdown",
   "metadata": {},
   "source": [
    "### Clasificación por votación Ensemble Vote Classifier "
   ]
  },
  {
   "cell_type": "code",
   "execution_count": 33,
   "metadata": {},
   "outputs": [
    {
     "name": "stdout",
     "output_type": "stream",
     "text": [
      "Soft voting on train set score mean: 100.00\n",
      "Soft voting on test set score mean: 81.37\n"
     ]
    }
   ],
   "source": [
    "grid_soft = VotingClassifier(estimators = [('Random Forest', ran), \n",
    "                                           ('Logistic Regression', log),\n",
    "                                           ('XGBoost', xgb),\n",
    "                                           ('Gradient Boosting', gbc),\n",
    "                                           ('Extra Trees', ext),\n",
    "                                           ('AdaBoost', ada),\n",
    "                                           ('Gaussian Process', gpc),\n",
    "                                           ('SVC', svc),\n",
    "                                           ('K Nearest Neighbour', knn),\n",
    "                                           ('Bagging Classifier', bag)], voting = 'soft')\n",
    "\n",
    "grid_soft_cv = model_selection.cross_validate(grid_soft, X_train_scaler, y_train, cv = 10, scoring= scorer)\n",
    "grid_soft.fit(X_train_scaler, y_train)\n",
    "\n",
    "print(\"Soft voting on train set score mean: {:.2f}\". format(grid_soft_cv['train_score'].mean()*100)) \n",
    "print(\"Soft voting on test set score mean: {:.2f}\". format(grid_soft_cv['test_score'].mean()*100))"
   ]
  },
  {
   "cell_type": "markdown",
   "metadata": {},
   "source": [
    "## Comparación en test \n",
    "\n",
    "Estudiaremos los modelos 4 modelos que obtuvieron mayor indice Kappa en en los round 1, 2 y 3."
   ]
  },
  {
   "cell_type": "markdown",
   "metadata": {},
   "source": [
    "#### Extra tree"
   ]
  },
  {
   "cell_type": "code",
   "execution_count": 42,
   "metadata": {},
   "outputs": [
    {
     "name": "stdout",
     "output_type": "stream",
     "text": [
      "Accuracy: 0.7296296296296296\n",
      "              precision    recall  f1-score   support\n",
      "\n",
      "           0       0.74      0.94      0.83       187\n",
      "           1       0.66      0.25      0.37        83\n",
      "\n",
      "   micro avg       0.73      0.73      0.73       270\n",
      "   macro avg       0.70      0.60      0.60       270\n",
      "weighted avg       0.71      0.73      0.69       270\n",
      "\n"
     ]
    },
    {
     "data": {
      "image/png": "[encoded data removed]",
      "text/plain": [
       "<Figure size 432x288 with 1 Axes>"
      ]
     },
     "metadata": {
      "needs_background": "light"
     },
     "output_type": "display_data"
    },
    {
     "name": "stdout",
     "output_type": "stream",
     "text": [
      "AUC: 0.7437020810514787\n",
      "Kappa: 0.23420623203046087\n"
     ]
    },
    {
     "data": {
      "text/plain": [
       "array([[176,  11],\n",
       "       [ 62,  21]], dtype=int64)"
      ]
     },
     "execution_count": 42,
     "metadata": {},
     "output_type": "execute_result"
    }
   ],
   "source": [
    "y_pred = ext.predict(X_test_scaler)  # Predict the labels of the test set: y_pred\n",
    "\n",
    "# Compute and print metrics\n",
    "print(\"Accuracy: {}\".format(ext.score(X_test_scaler, y_test)))\n",
    "print(classification_report(y_test, y_pred))\n",
    "\n",
    "\n",
    "y_pred_prob = ext.predict_proba(X_test_scaler)[:,1]\n",
    "\n",
    "fpr, tpr,thresholds = roc_curve(y_test, y_pred_prob)  # Generate ROC curve values: fpr, tpr, thresholds\n",
    "\n",
    "plt.plot([0, 1], [0, 1], 'k--')  # Plot ROC curve\n",
    "plt.plot(fpr, tpr)\n",
    "plt.xlabel('False Positive Rate')\n",
    "plt.ylabel('True Positive Rate')\n",
    "plt.title('ROC Curve')\n",
    "plt.show()\n",
    "\n",
    "print(\"AUC: {}\".format(roc_auc_score(y_test, y_pred_prob)))\n",
    "print(\"Kappa: {}\".format(cohen_kappa_score(y_test, y_pred)))\n",
    "\n",
    "confusion_matrix(y_test, y_pred)"
   ]
  },
  {
   "cell_type": "markdown",
   "metadata": {},
   "source": [
    "#### GradientBoosting"
   ]
  },
  {
   "cell_type": "code",
   "execution_count": 99,
   "metadata": {},
   "outputs": [
    {
     "name": "stdout",
     "output_type": "stream",
     "text": [
      "Accuracy: 0.762962962962963\n",
      "              precision    recall  f1-score   support\n",
      "\n",
      "           0       0.81      0.87      0.84       187\n",
      "           1       0.64      0.53      0.58        83\n",
      "\n",
      "   micro avg       0.76      0.76      0.76       270\n",
      "   macro avg       0.72      0.70      0.71       270\n",
      "weighted avg       0.75      0.76      0.76       270\n",
      "\n"
     ]
    },
    {
     "data": {
      "image/png": "[encoded data removed]",
      "text/plain": [
       "<Figure size 432x288 with 1 Axes>"
      ]
     },
     "metadata": {
      "needs_background": "light"
     },
     "output_type": "display_data"
    },
    {
     "name": "stdout",
     "output_type": "stream",
     "text": [
      "AUC: 0.7513691128148959\n",
      "Kappa: 0.41593997160819307\n"
     ]
    },
    {
     "data": {
      "text/plain": [
       "array([[162,  25],\n",
       "       [ 39,  44]], dtype=int64)"
      ]
     },
     "execution_count": 99,
     "metadata": {},
     "output_type": "execute_result"
    }
   ],
   "source": [
    "y_pred = gbc.predict(X_test_scaler)  # Predict the labels of the test set: y_pred\n",
    "\n",
    "# Compute and print metrics\n",
    "print(\"Accuracy: {}\".format(gbc.score(X_test_scaler, y_test)))\n",
    "print(classification_report(y_test, y_pred))\n",
    "\n",
    "\n",
    "y_pred_prob = gbc.predict_proba(X_test_scaler)[:,1]\n",
    "\n",
    "fpr, tpr,thresholds = roc_curve(y_test, y_pred_prob)  # Generate ROC curve values: fpr, tpr, thresholds\n",
    "\n",
    "plt.plot([0, 1], [0, 1], 'k--')  # Plot ROC curve\n",
    "plt.plot(fpr, tpr)\n",
    "plt.xlabel('False Positive Rate')\n",
    "plt.ylabel('True Positive Rate')\n",
    "plt.title('ROC Curve')\n",
    "plt.show()\n",
    "\n",
    "print(\"AUC: {}\".format(roc_auc_score(y_test, y_pred_prob)))\n",
    "print(\"Kappa: {}\".format(cohen_kappa_score(y_test, y_pred)))\n",
    "\n",
    "confusion_matrix(y_test, y_pred)"
   ]
  },
  {
   "cell_type": "markdown",
   "metadata": {},
   "source": [
    "#### SVC"
   ]
  },
  {
   "cell_type": "code",
   "execution_count": 48,
   "metadata": {},
   "outputs": [
    {
     "name": "stdout",
     "output_type": "stream",
     "text": [
      "Accuracy: 0.6851851851851852\n",
      "              precision    recall  f1-score   support\n",
      "\n",
      "           0       0.69      0.98      0.81       187\n",
      "           1       0.25      0.01      0.02        83\n",
      "\n",
      "   micro avg       0.69      0.69      0.69       270\n",
      "   macro avg       0.47      0.50      0.42       270\n",
      "weighted avg       0.56      0.69      0.57       270\n",
      "\n"
     ]
    },
    {
     "data": {
      "image/png": "[encoded data removed]",
      "text/plain": [
       "<Figure size 432x288 with 1 Axes>"
      ]
     },
     "metadata": {
      "needs_background": "light"
     },
     "output_type": "display_data"
    },
    {
     "name": "stdout",
     "output_type": "stream",
     "text": [
      "AUC: 0.6785000966432575\n"
     ]
    },
    {
     "data": {
      "text/plain": [
       "array([[184,   3],\n",
       "       [ 82,   1]], dtype=int64)"
      ]
     },
     "execution_count": 48,
     "metadata": {},
     "output_type": "execute_result"
    }
   ],
   "source": [
    "y_pred = svc.predict(X_test_scaler)  # Predict the labels of the test set: y_pred\n",
    "\n",
    "# Compute and print metrics\n",
    "print(\"Accuracy: {}\".format(svc.score(X_test_scaler, y_test)))\n",
    "print(classification_report(y_test, y_pred))\n",
    "\n",
    "\n",
    "y_pred_prob = svc.predict_proba(X_test_scaler)[:,1]\n",
    "\n",
    "fpr, tpr,thresholds = roc_curve(y_test, y_pred_prob)  # Generate ROC curve values: fpr, tpr, thresholds\n",
    "\n",
    "plt.plot([0, 1], [0, 1], 'k--')  # Plot ROC curve\n",
    "plt.plot(fpr, tpr)\n",
    "plt.xlabel('False Positive Rate')\n",
    "plt.ylabel('True Positive Rate')\n",
    "plt.title('ROC Curve')\n",
    "plt.show()\n",
    "\n",
    "print(\"AUC: {}\".format(roc_auc_score(y_test, y_pred_prob)))\n",
    "\n",
    "confusion_matrix(y_test, y_pred)\n"
   ]
  },
  {
   "cell_type": "markdown",
   "metadata": {},
   "source": [
    "#### Ensemble Vote Classifier"
   ]
  },
  {
   "cell_type": "code",
   "execution_count": 253,
   "metadata": {},
   "outputs": [
    {
     "name": "stdout",
     "output_type": "stream",
     "text": [
      "Accuracy: 0.7518518518518519\n",
      "              precision    recall  f1-score   support\n",
      "\n",
      "           0       0.78      0.89      0.83       187\n",
      "           1       0.64      0.43      0.52        83\n",
      "\n",
      "   micro avg       0.75      0.75      0.75       270\n",
      "   macro avg       0.71      0.66      0.68       270\n",
      "weighted avg       0.74      0.75      0.74       270\n",
      "\n"
     ]
    },
    {
     "data": {
      "image/png": "[encoded data removed]",
      "text/plain": [
       "<Figure size 432x288 with 1 Axes>"
      ]
     },
     "metadata": {
      "needs_background": "light"
     },
     "output_type": "display_data"
    },
    {
     "name": "stdout",
     "output_type": "stream",
     "text": [
      "AUC: 0.775980929063849\n",
      "Kappa: 0.35928313381029964\n"
     ]
    },
    {
     "data": {
      "text/plain": [
       "array([[167,  20],\n",
       "       [ 47,  36]], dtype=int64)"
      ]
     },
     "execution_count": 253,
     "metadata": {},
     "output_type": "execute_result"
    }
   ],
   "source": [
    "y_pred = grid_soft.predict(X_test_scaler)  # Predict the labels of the test set: y_pred\n",
    "\n",
    "# Compute and print metrics\n",
    "print(\"Accuracy: {}\".format(grid_soft.score(X_test_scaler, y_test)))\n",
    "print(classification_report(y_test, y_pred))\n",
    "\n",
    "\n",
    "y_pred_prob = grid_soft.predict_proba(X_test_scaler)[:,1]\n",
    "\n",
    "fpr, tpr,thresholds = roc_curve(y_test, y_pred_prob)  # Generate ROC curve values: fpr, tpr, thresholds\n",
    "\n",
    "plt.plot([0, 1], [0, 1], 'k--')  # Plot ROC curve\n",
    "plt.plot(fpr, tpr)\n",
    "plt.xlabel('False Positive Rate')\n",
    "plt.ylabel('True Positive Rate')\n",
    "plt.title('ROC Curve')\n",
    "plt.show()\n",
    "\n",
    "print(\"AUC: {}\".format(roc_auc_score(y_test, y_pred_prob)))\n",
    "print(\"Kappa: {}\".format(cohen_kappa_score(y_test, y_pred)))\n",
    "\n",
    "confusion_matrix(y_test, y_pred)"
   ]
  },
  {
   "cell_type": "markdown",
   "metadata": {},
   "source": [
    "Para el paso final nos quedaremos con Grid soft y GradientBoosting por tener mejor prodicción en los malos clientes"
   ]
  },
  {
   "cell_type": "markdown",
   "metadata": {},
   "source": [
    "## Consideraciones entregadas por el negocio\n",
    "\n",
    "- Es 5 veces peor clasificar un cliente como bueno cuando es malo, que malo cuando es bueno\n",
    "\n",
    "En la muetra de test tenemos 187 buenos y 83 malos, si clasificaramos a todos los clientes como buenos tendríamos un costo de 83*5=415, si por el contrario clasificamos a todos como malos el costo sería 187*1 = 187. Tenemos que encontrar el mejor punto de corte para minimizar los costos (penalización).\n",
    "\n",
    "Para cada punto de corte calculamos la matriz de confusión y el costo asociado a esta multiplicando por 1 si es un falso positivo y por 5 si es un falso negativo. \n"
   ]
  },
  {
   "cell_type": "markdown",
   "metadata": {},
   "source": [
    "### Grid soft"
   ]
  },
  {
   "cell_type": "code",
   "execution_count": 276,
   "metadata": {},
   "outputs": [
    {
     "name": "stdout",
     "output_type": "stream",
     "text": [
      "    costos     score\n",
      "39   138.0  0.188308\n"
     ]
    },
    {
     "data": {
      "text/plain": [
       "array([[ 68, 119],\n",
       "       [  4,  79]], dtype=int64)"
      ]
     },
     "execution_count": 276,
     "metadata": {},
     "output_type": "execute_result"
    }
   ],
   "source": [
    "def my_scorer(y_test, y_est, cost_fp=1, cost_fn=5.0):\n",
    "    tn, fp, fn, tp = confusion_matrix(y_test, y_est).ravel()\n",
    "    return cost_fp*fp + cost_fn*fn\n",
    "\n",
    "scores = grid_soft.predict_proba(X_test_scaler)[:,1]\n",
    "\n",
    "DataFrame = pd.DataFrame({'Target':y_test, 'score':scores})\n",
    "costos= []\n",
    "score_1 = []\n",
    "\n",
    "\n",
    "for i in scores:\n",
    "    \n",
    "    DataFrame['pred'] = DataFrame['score']>i\n",
    "\n",
    "    #DataFrame['pred'].replace([True, False], [1,0], inplace=True)\n",
    "\n",
    "    costo = my_scorer(DataFrame['Target'],DataFrame['pred'] )\n",
    "    costos.append(costo)\n",
    "    score_1.append(i)\n",
    "    \n",
    "data_costos = pd.DataFrame({'costos':costos,'score':score_1})\n",
    "print(data_costos[data_costos['costos']==data_costos['costos'].min()])\n",
    "    \n",
    "scores = grid_soft.predict_proba(X_test_scaler)[:,1]\n",
    "predic = []\n",
    "\n",
    "for sc in scores:\n",
    "    if(sc>0.188308):\n",
    "        predic.append(1)\n",
    "    else:\n",
    "        predic.append(0)\n",
    "\n",
    "    \n",
    "confusion_matrix(y_test, predic)\n",
    "\n"
   ]
  },
  {
   "cell_type": "markdown",
   "metadata": {},
   "source": [
    "### Gradient Boosting"
   ]
  },
  {
   "cell_type": "code",
   "execution_count": 277,
   "metadata": {},
   "outputs": [
    {
     "name": "stdout",
     "output_type": "stream",
     "text": [
      "    costos     score\n",
      "47   155.0  0.099068\n"
     ]
    },
    {
     "data": {
      "text/plain": [
       "array([[109,  78],\n",
       "       [ 21,  62]], dtype=int64)"
      ]
     },
     "execution_count": 277,
     "metadata": {},
     "output_type": "execute_result"
    }
   ],
   "source": [
    "def my_scorer(y_test, y_est, cost_fp=1, cost_fn=5.0):\n",
    "    tn, fp, fn, tp = confusion_matrix(y_test, y_est).ravel()\n",
    "    return cost_fp*fp + cost_fn*fn\n",
    "\n",
    "scores = gbc.predict_proba(X_test_scaler)[:,1]\n",
    "\n",
    "DataFrame_gbc = pd.DataFrame({'Target':y_test, 'score':scores})\n",
    "costos= []\n",
    "score_1 = []\n",
    "\n",
    "\n",
    "for i in scores:\n",
    "    \n",
    "    DataFrame_gbc['pred'] = DataFrame_gbc['score']>i\n",
    "    costo = my_scorer(DataFrame_gbc['Target'],DataFrame_gbc['pred'] )\n",
    "    costos.append(costo)\n",
    "    score_1.append(i)\n",
    "    \n",
    "data_costos = pd.DataFrame({'costos':costos,'score':score_1})\n",
    "print(data_costos[data_costos['costos']==data_costos['costos'].min()])\n",
    "    \n",
    "scores = gbc.predict_proba(X_test_scaler)[:,1]\n",
    "predic_gbc = []\n",
    "\n",
    "for sc in scores:\n",
    "    if(sc>0.188308):\n",
    "        predic_gbc.append(1)\n",
    "    else:\n",
    "        predic_gbc.append(0)\n",
    "\n",
    "    \n",
    "confusion_matrix(y_test, predic_gbc)\n"
   ]
  },
  {
   "cell_type": "markdown",
   "metadata": {},
   "source": [
    "## Estimacin Final\n",
    "\n",
    "Calcularemos el Precio base del seguro para los clientes que fueron clasificados como buenos despues de aplicar el costo"
   ]
  },
  {
   "cell_type": "markdown",
   "metadata": {},
   "source": [
    "#### Con Ensemble Vote Classifier"
   ]
  },
  {
   "cell_type": "code",
   "execution_count": 281,
   "metadata": {},
   "outputs": [
    {
     "name": "stdout",
     "output_type": "stream",
     "text": [
      "17691924.602503356\n"
     ]
    }
   ],
   "source": [
    "DataFrame['buenos']= predic\n",
    "Data_buenos = DataFrame[DataFrame['buenos']==1]\n",
    "\n",
    "UF = 27765.23\n",
    "p = Data_buenos['score']*0.1\n",
    "PrecioBPP=(3*(1+0.03+p))*UF\n",
    "print(PrecioBPP.sum())\n",
    "\n",
    "DataFrame['Precio'] = PrecioBPP\n"
   ]
  },
  {
   "cell_type": "markdown",
   "metadata": {},
   "source": [
    "#### Con Gradient Boosting"
   ]
  },
  {
   "cell_type": "code",
   "execution_count": 285,
   "metadata": {},
   "outputs": [
    {
     "name": "stdout",
     "output_type": "stream",
     "text": [
      "12658320.437745757\n"
     ]
    }
   ],
   "source": [
    "DataFrame_gbc['buenos']= predic_gbc\n",
    "Data_buenos_gbc = DataFrame_gbc[DataFrame_gbc['buenos']==1]\n",
    "\n",
    "UF = 27765.23\n",
    "p = Data_buenos_gbc['score']*0.1\n",
    "PrecioBPP_gbc=(3*(1+0.03+p))*UF\n",
    "print(PrecioBPP_gbc.sum())\n",
    "\n",
    "Data_buenos_gbc['Precio'] = PrecioBPP_gbc"
   ]
  },
  {
   "cell_type": "code",
   "execution_count": 283,
   "metadata": {},
   "outputs": [
    {
     "data": {
      "text/html": [
       "<div>\n",
       "<style scoped>\n",
       "    .dataframe tbody tr th:only-of-type {\n",
       "        vertical-align: middle;\n",
       "    }\n",
       "\n",
       "    .dataframe tbody tr th {\n",
       "        vertical-align: top;\n",
       "    }\n",
       "\n",
       "    .dataframe thead th {\n",
       "        text-align: right;\n",
       "    }\n",
       "</style>\n",
       "<table border=\"1\" class=\"dataframe\">\n",
       "  <thead>\n",
       "    <tr style=\"text-align: right;\">\n",
       "      <th></th>\n",
       "      <th>Target</th>\n",
       "      <th>score</th>\n",
       "      <th>pred</th>\n",
       "      <th>buenos</th>\n",
       "      <th>Precio</th>\n",
       "    </tr>\n",
       "  </thead>\n",
       "  <tbody>\n",
       "    <tr>\n",
       "      <th>537</th>\n",
       "      <td>1</td>\n",
       "      <td>0.600642</td>\n",
       "      <td>False</td>\n",
       "      <td>1</td>\n",
       "      <td>90797.653662</td>\n",
       "    </tr>\n",
       "    <tr>\n",
       "      <th>662</th>\n",
       "      <td>0</td>\n",
       "      <td>0.318220</td>\n",
       "      <td>False</td>\n",
       "      <td>1</td>\n",
       "      <td>88445.200195</td>\n",
       "    </tr>\n",
       "    <tr>\n",
       "      <th>853</th>\n",
       "      <td>0</td>\n",
       "      <td>0.307769</td>\n",
       "      <td>False</td>\n",
       "      <td>1</td>\n",
       "      <td>88358.140840</td>\n",
       "    </tr>\n",
       "    <tr>\n",
       "      <th>787</th>\n",
       "      <td>1</td>\n",
       "      <td>0.269985</td>\n",
       "      <td>False</td>\n",
       "      <td>1</td>\n",
       "      <td>88043.415939</td>\n",
       "    </tr>\n",
       "    <tr>\n",
       "      <th>538</th>\n",
       "      <td>0</td>\n",
       "      <td>0.307249</td>\n",
       "      <td>False</td>\n",
       "      <td>1</td>\n",
       "      <td>88353.810223</td>\n",
       "    </tr>\n",
       "  </tbody>\n",
       "</table>\n",
       "</div>"
      ],
      "text/plain": [
       "     Target     score   pred  buenos        Precio\n",
       "537       1  0.600642  False       1  90797.653662\n",
       "662       0  0.318220  False       1  88445.200195\n",
       "853       0  0.307769  False       1  88358.140840\n",
       "787       1  0.269985  False       1  88043.415939\n",
       "538       0  0.307249  False       1  88353.810223"
      ]
     },
     "execution_count": 283,
     "metadata": {},
     "output_type": "execute_result"
    }
   ],
   "source": [
    "DataFrame.head()"
   ]
  },
  {
   "cell_type": "code",
   "execution_count": 286,
   "metadata": {},
   "outputs": [
    {
     "data": {
      "text/html": [
       "<div>\n",
       "<style scoped>\n",
       "    .dataframe tbody tr th:only-of-type {\n",
       "        vertical-align: middle;\n",
       "    }\n",
       "\n",
       "    .dataframe tbody tr th {\n",
       "        vertical-align: top;\n",
       "    }\n",
       "\n",
       "    .dataframe thead th {\n",
       "        text-align: right;\n",
       "    }\n",
       "</style>\n",
       "<table border=\"1\" class=\"dataframe\">\n",
       "  <thead>\n",
       "    <tr style=\"text-align: right;\">\n",
       "      <th></th>\n",
       "      <th>Target</th>\n",
       "      <th>score</th>\n",
       "      <th>pred</th>\n",
       "      <th>buenos</th>\n",
       "      <th>Precio</th>\n",
       "    </tr>\n",
       "  </thead>\n",
       "  <tbody>\n",
       "    <tr>\n",
       "      <th>537</th>\n",
       "      <td>1</td>\n",
       "      <td>0.936765</td>\n",
       "      <td>True</td>\n",
       "      <td>1</td>\n",
       "      <td>93597.407405</td>\n",
       "    </tr>\n",
       "    <tr>\n",
       "      <th>787</th>\n",
       "      <td>1</td>\n",
       "      <td>0.597989</td>\n",
       "      <td>False</td>\n",
       "      <td>1</td>\n",
       "      <td>90775.554099</td>\n",
       "    </tr>\n",
       "    <tr>\n",
       "      <th>538</th>\n",
       "      <td>0</td>\n",
       "      <td>0.243892</td>\n",
       "      <td>False</td>\n",
       "      <td>1</td>\n",
       "      <td>87826.074246</td>\n",
       "    </tr>\n",
       "    <tr>\n",
       "      <th>739</th>\n",
       "      <td>1</td>\n",
       "      <td>0.859609</td>\n",
       "      <td>True</td>\n",
       "      <td>1</td>\n",
       "      <td>92954.733724</td>\n",
       "    </tr>\n",
       "    <tr>\n",
       "      <th>26</th>\n",
       "      <td>1</td>\n",
       "      <td>0.515020</td>\n",
       "      <td>False</td>\n",
       "      <td>1</td>\n",
       "      <td>90084.458146</td>\n",
       "    </tr>\n",
       "  </tbody>\n",
       "</table>\n",
       "</div>"
      ],
      "text/plain": [
       "     Target     score   pred  buenos        Precio\n",
       "537       1  0.936765   True       1  93597.407405\n",
       "787       1  0.597989  False       1  90775.554099\n",
       "538       0  0.243892  False       1  87826.074246\n",
       "739       1  0.859609   True       1  92954.733724\n",
       "26        1  0.515020  False       1  90084.458146"
      ]
     },
     "execution_count": 286,
     "metadata": {},
     "output_type": "execute_result"
    }
   ],
   "source": [
    "Data_buenos_gbc.head()"
   ]
  }
 ],
 "metadata": {
  "kernelspec": {
   "display_name": "Python 3",
   "language": "python",
   "name": "python3"
  },
  "language_info": {
   "codemirror_mode": {
    "name": "ipython",
    "version": 3
   },
   "file_extension": ".py",
   "mimetype": "text/x-python",
   "name": "python",
   "nbconvert_exporter": "python",
   "pygments_lexer": "ipython3",
   "version": "3.7.3"
  }
 },
 "nbformat": 4,
 "nbformat_minor": 2
}
